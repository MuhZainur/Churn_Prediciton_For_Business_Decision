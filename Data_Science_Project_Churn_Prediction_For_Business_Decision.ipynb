{
 "cells": [
  {
   "cell_type": "markdown",
   "metadata": {
    "id": "To0bkKoCPs-u"
   },
   "source": [
    "# **Data Analyst Project: Business Decision Research**"
   ]
  },
  {
   "cell_type": "markdown",
   "metadata": {
    "id": "9puaYeHWQiYt"
   },
   "source": [
    "Kolom tersebut berisikan hal berikut antara lain:\n",
    "\n",
    "1. No\n",
    "2. Row_Num\n",
    "3. Customer_ID\n",
    "4. Product\n",
    "5. First_Transaction\n",
    "6. Last_Transaction\n",
    "7. Average_Transaction_Amount\n",
    "8. Count_Transaction"
   ]
  },
  {
   "cell_type": "markdown",
   "metadata": {},
   "source": [
    "## Data Understanding"
   ]
  },
  {
   "cell_type": "code",
   "execution_count": 1,
   "metadata": {
    "colab": {
     "base_uri": "https://localhost:8080/"
    },
    "id": "He8nFwXTPmkI",
    "outputId": "89a05de1-382e-4710-a4cc-bd493b932e78",
    "scrolled": true
   },
   "outputs": [
    {
     "name": "stderr",
     "output_type": "stream",
     "text": [
      "C:\\Users\\amati\\AppData\\Local\\Temp\\ipykernel_19624\\2131135890.py:6: ParserWarning: Falling back to the 'python' engine because the 'c' engine does not support regex separators (separators > 1 char and different from '\\s+' are interpreted as regex); you can avoid this warning by specifying engine='python'.\n",
      "  df = pd.read_csv(r\"C:\\Users\\amati\\Latihan_course\\DQlab\\Project\\Data Analyst Project Business Decision Research\\data_retail.csv\", sep= '\\;')\n"
     ]
    }
   ],
   "source": [
    "import pandas as pd\n",
    "import numpy as np\n",
    "import matplotlib.pyplot as plt\n",
    "import seaborn as sns\n",
    "sns.set_style('darkgrid')\n",
    "df = pd.read_csv(r\"data_retail.csv\", sep= '\\;')"
   ]
  },
  {
   "cell_type": "code",
   "execution_count": 2,
   "metadata": {
    "colab": {
     "base_uri": "https://localhost:8080/",
     "height": 206
    },
    "id": "7hMJDT71RGlu",
    "outputId": "5a13b2fc-8598-4452-b5c1-640f4829c7d2"
   },
   "outputs": [
    {
     "data": {
      "text/html": [
       "<div>\n",
       "<style scoped>\n",
       "    .dataframe tbody tr th:only-of-type {\n",
       "        vertical-align: middle;\n",
       "    }\n",
       "\n",
       "    .dataframe tbody tr th {\n",
       "        vertical-align: top;\n",
       "    }\n",
       "\n",
       "    .dataframe thead th {\n",
       "        text-align: right;\n",
       "    }\n",
       "</style>\n",
       "<table border=\"1\" class=\"dataframe\">\n",
       "  <thead>\n",
       "    <tr style=\"text-align: right;\">\n",
       "      <th></th>\n",
       "      <th>no</th>\n",
       "      <th>Row_Num</th>\n",
       "      <th>Customer_ID</th>\n",
       "      <th>Product</th>\n",
       "      <th>First_Transaction</th>\n",
       "      <th>Last_Transaction</th>\n",
       "      <th>Average_Transaction_Amount</th>\n",
       "      <th>Count_Transaction</th>\n",
       "    </tr>\n",
       "  </thead>\n",
       "  <tbody>\n",
       "    <tr>\n",
       "      <th>0</th>\n",
       "      <td>1</td>\n",
       "      <td>1</td>\n",
       "      <td>29531</td>\n",
       "      <td>Jaket</td>\n",
       "      <td>1466304274396</td>\n",
       "      <td>1538718482608</td>\n",
       "      <td>1467681</td>\n",
       "      <td>22</td>\n",
       "    </tr>\n",
       "    <tr>\n",
       "      <th>1</th>\n",
       "      <td>2</td>\n",
       "      <td>2</td>\n",
       "      <td>29531</td>\n",
       "      <td>Sepatu</td>\n",
       "      <td>1406077331494</td>\n",
       "      <td>1545735761270</td>\n",
       "      <td>1269337</td>\n",
       "      <td>41</td>\n",
       "    </tr>\n",
       "    <tr>\n",
       "      <th>2</th>\n",
       "      <td>3</td>\n",
       "      <td>3</td>\n",
       "      <td>141526</td>\n",
       "      <td>Tas</td>\n",
       "      <td>1493349147000</td>\n",
       "      <td>1548322802000</td>\n",
       "      <td>310915</td>\n",
       "      <td>30</td>\n",
       "    </tr>\n",
       "    <tr>\n",
       "      <th>3</th>\n",
       "      <td>4</td>\n",
       "      <td>4</td>\n",
       "      <td>141526</td>\n",
       "      <td>Jaket</td>\n",
       "      <td>1493362372547</td>\n",
       "      <td>1547643603911</td>\n",
       "      <td>722632</td>\n",
       "      <td>27</td>\n",
       "    </tr>\n",
       "    <tr>\n",
       "      <th>4</th>\n",
       "      <td>5</td>\n",
       "      <td>5</td>\n",
       "      <td>37545</td>\n",
       "      <td>Sepatu</td>\n",
       "      <td>1429178498531</td>\n",
       "      <td>1542891221530</td>\n",
       "      <td>1775036</td>\n",
       "      <td>25</td>\n",
       "    </tr>\n",
       "  </tbody>\n",
       "</table>\n",
       "</div>"
      ],
      "text/plain": [
       "   no  Row_Num  Customer_ID Product  First_Transaction  Last_Transaction  \\\n",
       "0   1        1        29531   Jaket      1466304274396     1538718482608   \n",
       "1   2        2        29531  Sepatu      1406077331494     1545735761270   \n",
       "2   3        3       141526     Tas      1493349147000     1548322802000   \n",
       "3   4        4       141526   Jaket      1493362372547     1547643603911   \n",
       "4   5        5        37545  Sepatu      1429178498531     1542891221530   \n",
       "\n",
       "   Average_Transaction_Amount  Count_Transaction  \n",
       "0                     1467681                 22  \n",
       "1                     1269337                 41  \n",
       "2                      310915                 30  \n",
       "3                      722632                 27  \n",
       "4                     1775036                 25  "
      ]
     },
     "execution_count": 2,
     "metadata": {},
     "output_type": "execute_result"
    }
   ],
   "source": [
    "# Preparation\n",
    "# cek data teratas sebanyak 5\n",
    "df.head()"
   ]
  },
  {
   "cell_type": "code",
   "execution_count": 3,
   "metadata": {
    "colab": {
     "base_uri": "https://localhost:8080/"
    },
    "id": "75dF9O3gRsgf",
    "outputId": "28cfcc4e-81d2-48a7-ed2a-6038a94427fb"
   },
   "outputs": [
    {
     "name": "stdout",
     "output_type": "stream",
     "text": [
      "<class 'pandas.core.frame.DataFrame'>\n",
      "RangeIndex: 100000 entries, 0 to 99999\n",
      "Data columns (total 8 columns):\n",
      " #   Column                      Non-Null Count   Dtype \n",
      "---  ------                      --------------   ----- \n",
      " 0   no                          100000 non-null  int64 \n",
      " 1   Row_Num                     100000 non-null  int64 \n",
      " 2   Customer_ID                 100000 non-null  int64 \n",
      " 3   Product                     100000 non-null  object\n",
      " 4   First_Transaction           100000 non-null  int64 \n",
      " 5   Last_Transaction            100000 non-null  int64 \n",
      " 6   Average_Transaction_Amount  100000 non-null  int64 \n",
      " 7   Count_Transaction           100000 non-null  int64 \n",
      "dtypes: int64(7), object(1)\n",
      "memory usage: 6.1+ MB\n"
     ]
    }
   ],
   "source": [
    "#melakukan pengecekan tipe data, jumlah baris dan kolom\n",
    "df.info()"
   ]
  },
  {
   "cell_type": "code",
   "execution_count": 4,
   "metadata": {
    "colab": {
     "base_uri": "https://localhost:8080/"
    },
    "id": "qSwWwuXmv3-L",
    "outputId": "6716d569-20e7-43c6-8280-2615a4e60665"
   },
   "outputs": [
    {
     "data": {
      "text/plain": [
       "(100000, 8)"
      ]
     },
     "execution_count": 4,
     "metadata": {},
     "output_type": "execute_result"
    }
   ],
   "source": [
    "# melakukan pengecekaj jumlah baris dan kolom\n",
    "df.shape"
   ]
  },
  {
   "cell_type": "code",
   "execution_count": 5,
   "metadata": {
    "id": "_ktmkIp7xxNT"
   },
   "outputs": [],
   "source": [
    "df = df.drop(columns=['no','Row_Num']) #Pada kasus ini kolom 'no' dan 'Row_Num' tidak dibutuhkan"
   ]
  },
  {
   "cell_type": "code",
   "execution_count": 6,
   "metadata": {
    "colab": {
     "base_uri": "https://localhost:8080/"
    },
    "id": "IqA4tFZhx-h8",
    "outputId": "32e6c6de-c4d4-4072-ee36-9f6cfa1ea3df"
   },
   "outputs": [
    {
     "name": "stdout",
     "output_type": "stream",
     "text": [
      "<class 'pandas.core.frame.DataFrame'>\n",
      "RangeIndex: 100000 entries, 0 to 99999\n",
      "Data columns (total 6 columns):\n",
      " #   Column                      Non-Null Count   Dtype \n",
      "---  ------                      --------------   ----- \n",
      " 0   Customer_ID                 100000 non-null  int64 \n",
      " 1   Product                     100000 non-null  object\n",
      " 2   First_Transaction           100000 non-null  int64 \n",
      " 3   Last_Transaction            100000 non-null  int64 \n",
      " 4   Average_Transaction_Amount  100000 non-null  int64 \n",
      " 5   Count_Transaction           100000 non-null  int64 \n",
      "dtypes: int64(5), object(1)\n",
      "memory usage: 4.6+ MB\n"
     ]
    }
   ],
   "source": [
    "df.info()"
   ]
  },
  {
   "cell_type": "markdown",
   "metadata": {},
   "source": [
    "## Data cleaning"
   ]
  },
  {
   "cell_type": "code",
   "execution_count": 7,
   "metadata": {
    "colab": {
     "base_uri": "https://localhost:8080/"
    },
    "id": "KuM3zvhdR36A",
    "outputId": "88ed3a6e-5be7-4e3d-f21b-56fde9d90354"
   },
   "outputs": [
    {
     "data": {
      "text/plain": [
       "0       2016-06-19 02:44:34.396000000\n",
       "1       2014-07-23 01:02:11.493999872\n",
       "2       2017-04-28 03:12:27.000000000\n",
       "3       2017-04-28 06:52:52.546999808\n",
       "4       2015-04-16 10:01:38.530999808\n",
       "                     ...             \n",
       "99995   2016-06-01 11:35:39.092000000\n",
       "99996   2017-02-09 05:46:10.763000064\n",
       "99997   2015-08-30 08:54:20.706000128\n",
       "99998   2014-11-14 02:42:28.026000128\n",
       "99999   2018-10-24 09:36:04.124999936\n",
       "Name: First_Transaction, Length: 100000, dtype: datetime64[ns]"
      ]
     },
     "execution_count": 7,
     "metadata": {},
     "output_type": "execute_result"
    }
   ],
   "source": [
    "#convert into datetime, karena berupa detik harus dibagi seriubu dan unitnya diset sebagai 's' dengan origin atau acuannya '1970-01-01'\n",
    "df['First_Transaction'] = pd.to_datetime(df['First_Transaction']/1000, unit = 's', origin= '1970-01-01')\n",
    "df['First_Transaction']"
   ]
  },
  {
   "cell_type": "code",
   "execution_count": 8,
   "metadata": {
    "colab": {
     "base_uri": "https://localhost:8080/"
    },
    "id": "d2lIxauuSZcA",
    "outputId": "23378a97-e586-4c70-a83c-ebbe05f045f0"
   },
   "outputs": [
    {
     "data": {
      "text/plain": [
       "0       2018-10-05 05:48:02.608000000\n",
       "1       2018-12-25 11:02:41.269999872\n",
       "2       2019-01-24 09:40:02.000000000\n",
       "3       2019-01-16 13:00:03.911000064\n",
       "4       2018-11-22 12:53:41.529999872\n",
       "                     ...             \n",
       "99995   2016-06-01 11:35:39.092000000\n",
       "99996   2017-02-09 05:46:10.763000064\n",
       "99997   2015-08-30 08:54:20.706000128\n",
       "99998   2014-11-14 02:42:28.026000128\n",
       "99999   2018-10-24 09:36:04.124999936\n",
       "Name: Last_Transaction, Length: 100000, dtype: datetime64[ns]"
      ]
     },
     "execution_count": 8,
     "metadata": {},
     "output_type": "execute_result"
    }
   ],
   "source": [
    "#convert into datetime, karena berupa detik harus dibagi seriubu dan unitnya diset sebagai 's' dengan origin atau acuannya '1970-01-01'\n",
    "df['Last_Transaction'] = pd.to_datetime(df['Last_Transaction']/1000, unit = 's', origin= '1970-01-01')\n",
    "df['Last_Transaction']"
   ]
  },
  {
   "cell_type": "code",
   "execution_count": 9,
   "metadata": {
    "colab": {
     "base_uri": "https://localhost:8080/",
     "height": 206
    },
    "id": "hwhkCydzS63o",
    "outputId": "6c85e818-6391-45bc-b058-b5469e18bf1a"
   },
   "outputs": [
    {
     "data": {
      "text/html": [
       "<div>\n",
       "<style scoped>\n",
       "    .dataframe tbody tr th:only-of-type {\n",
       "        vertical-align: middle;\n",
       "    }\n",
       "\n",
       "    .dataframe tbody tr th {\n",
       "        vertical-align: top;\n",
       "    }\n",
       "\n",
       "    .dataframe thead th {\n",
       "        text-align: right;\n",
       "    }\n",
       "</style>\n",
       "<table border=\"1\" class=\"dataframe\">\n",
       "  <thead>\n",
       "    <tr style=\"text-align: right;\">\n",
       "      <th></th>\n",
       "      <th>Customer_ID</th>\n",
       "      <th>Product</th>\n",
       "      <th>First_Transaction</th>\n",
       "      <th>Last_Transaction</th>\n",
       "      <th>Average_Transaction_Amount</th>\n",
       "      <th>Count_Transaction</th>\n",
       "    </tr>\n",
       "  </thead>\n",
       "  <tbody>\n",
       "    <tr>\n",
       "      <th>0</th>\n",
       "      <td>29531</td>\n",
       "      <td>Jaket</td>\n",
       "      <td>2016-06-19 02:44:34.396000000</td>\n",
       "      <td>2018-10-05 05:48:02.608000000</td>\n",
       "      <td>1467681</td>\n",
       "      <td>22</td>\n",
       "    </tr>\n",
       "    <tr>\n",
       "      <th>1</th>\n",
       "      <td>29531</td>\n",
       "      <td>Sepatu</td>\n",
       "      <td>2014-07-23 01:02:11.493999872</td>\n",
       "      <td>2018-12-25 11:02:41.269999872</td>\n",
       "      <td>1269337</td>\n",
       "      <td>41</td>\n",
       "    </tr>\n",
       "    <tr>\n",
       "      <th>2</th>\n",
       "      <td>141526</td>\n",
       "      <td>Tas</td>\n",
       "      <td>2017-04-28 03:12:27.000000000</td>\n",
       "      <td>2019-01-24 09:40:02.000000000</td>\n",
       "      <td>310915</td>\n",
       "      <td>30</td>\n",
       "    </tr>\n",
       "    <tr>\n",
       "      <th>3</th>\n",
       "      <td>141526</td>\n",
       "      <td>Jaket</td>\n",
       "      <td>2017-04-28 06:52:52.546999808</td>\n",
       "      <td>2019-01-16 13:00:03.911000064</td>\n",
       "      <td>722632</td>\n",
       "      <td>27</td>\n",
       "    </tr>\n",
       "    <tr>\n",
       "      <th>4</th>\n",
       "      <td>37545</td>\n",
       "      <td>Sepatu</td>\n",
       "      <td>2015-04-16 10:01:38.530999808</td>\n",
       "      <td>2018-11-22 12:53:41.529999872</td>\n",
       "      <td>1775036</td>\n",
       "      <td>25</td>\n",
       "    </tr>\n",
       "  </tbody>\n",
       "</table>\n",
       "</div>"
      ],
      "text/plain": [
       "   Customer_ID Product             First_Transaction  \\\n",
       "0        29531   Jaket 2016-06-19 02:44:34.396000000   \n",
       "1        29531  Sepatu 2014-07-23 01:02:11.493999872   \n",
       "2       141526     Tas 2017-04-28 03:12:27.000000000   \n",
       "3       141526   Jaket 2017-04-28 06:52:52.546999808   \n",
       "4        37545  Sepatu 2015-04-16 10:01:38.530999808   \n",
       "\n",
       "               Last_Transaction  Average_Transaction_Amount  Count_Transaction  \n",
       "0 2018-10-05 05:48:02.608000000                     1467681                 22  \n",
       "1 2018-12-25 11:02:41.269999872                     1269337                 41  \n",
       "2 2019-01-24 09:40:02.000000000                      310915                 30  \n",
       "3 2019-01-16 13:00:03.911000064                      722632                 27  \n",
       "4 2018-11-22 12:53:41.529999872                     1775036                 25  "
      ]
     },
     "execution_count": 9,
     "metadata": {},
     "output_type": "execute_result"
    }
   ],
   "source": [
    "# cek data sekilasaaaaaa\n",
    "\n",
    "df.head()"
   ]
  },
  {
   "cell_type": "code",
   "execution_count": 10,
   "metadata": {
    "colab": {
     "base_uri": "https://localhost:8080/"
    },
    "id": "SOg8k1M6S96P",
    "outputId": "ef751699-e5ee-4da5-9439-45a3f2a3aab3"
   },
   "outputs": [
    {
     "name": "stdout",
     "output_type": "stream",
     "text": [
      "<class 'pandas.core.frame.DataFrame'>\n",
      "RangeIndex: 100000 entries, 0 to 99999\n",
      "Data columns (total 6 columns):\n",
      " #   Column                      Non-Null Count   Dtype         \n",
      "---  ------                      --------------   -----         \n",
      " 0   Customer_ID                 100000 non-null  int64         \n",
      " 1   Product                     100000 non-null  object        \n",
      " 2   First_Transaction           100000 non-null  datetime64[ns]\n",
      " 3   Last_Transaction            100000 non-null  datetime64[ns]\n",
      " 4   Average_Transaction_Amount  100000 non-null  int64         \n",
      " 5   Count_Transaction           100000 non-null  int64         \n",
      "dtypes: datetime64[ns](2), int64(3), object(1)\n",
      "memory usage: 4.6+ MB\n"
     ]
    }
   ],
   "source": [
    "#cek lagi info data\n",
    "df.info()"
   ]
  },
  {
   "cell_type": "code",
   "execution_count": 11,
   "metadata": {
    "colab": {
     "base_uri": "https://localhost:8080/"
    },
    "id": "xaAoZHbh14oD",
    "outputId": "772de802-1bc6-43f8-b894-a94507c9a34e"
   },
   "outputs": [
    {
     "data": {
      "text/plain": [
       "Customer_ID                   0\n",
       "Product                       0\n",
       "First_Transaction             0\n",
       "Last_Transaction              0\n",
       "Average_Transaction_Amount    0\n",
       "Count_Transaction             0\n",
       "dtype: int64"
      ]
     },
     "execution_count": 11,
     "metadata": {},
     "output_type": "execute_result"
    }
   ],
   "source": [
    "# cek null values\n",
    "df.isnull().sum()"
   ]
  },
  {
   "cell_type": "markdown",
   "metadata": {
    "id": "sDIVGYkETnJF"
   },
   "source": [
    "## **Request Churn Customers**\n",
    "Berdasarkan kasus, maka harus mencari tahu mana customer yang masuk ke kategori churn\n",
    "Step yang perlu dilakukan adalah:\n",
    "1. transaksi paling terakhir kapan dilakukan\n",
    "2. setelah mengetahui kapan terkahir kali transaksi dilakukan, kurangi lah 6 bulan\n",
    "3. lalu definisikan jika customer tidak melakukan transaksi selama 6 bulan sejak transaksi terakhir maka akan didefinisikan sebagai churn\n",
    "4. Setelah itu cetak lima data teratas dan informasi dataset."
   ]
  },
  {
   "cell_type": "code",
   "execution_count": 12,
   "metadata": {
    "colab": {
     "base_uri": "https://localhost:8080/"
    },
    "id": "mTEZsgFkS-jW",
    "outputId": "4fc737c3-e39b-40f2-cf2f-b180ac518c36"
   },
   "outputs": [
    {
     "data": {
      "text/plain": [
       "Timestamp('2019-02-01 23:57:57.286000128')"
      ]
     },
     "execution_count": 12,
     "metadata": {},
     "output_type": "execute_result"
    }
   ],
   "source": [
    "# Pengecekan transaksaksi terakhir dalam dataset\n",
    "max(df['Last_Transaction'])"
   ]
  },
  {
   "cell_type": "code",
   "execution_count": 13,
   "metadata": {
    "id": "KqCQ-hLVTwLH"
   },
   "outputs": [],
   "source": [
    "# Klasifikasikan customer yang berstatus churn atau tidak dengan boolean\n",
    "df.loc[df['Last_Transaction']<='2018-08-01', 'is_churn']= True"
   ]
  },
  {
   "cell_type": "code",
   "execution_count": 14,
   "metadata": {
    "id": "YvP1SfltUPuX"
   },
   "outputs": [],
   "source": [
    "df.loc[df['Last_Transaction']>'2018-08-01', 'is_churn']= False"
   ]
  },
  {
   "cell_type": "code",
   "execution_count": 15,
   "metadata": {
    "colab": {
     "base_uri": "https://localhost:8080/",
     "height": 363
    },
    "id": "dG5rzS3yUUfO",
    "outputId": "8687da78-76c9-404e-c200-d7f1cedd3fd6"
   },
   "outputs": [
    {
     "data": {
      "text/html": [
       "<div>\n",
       "<style scoped>\n",
       "    .dataframe tbody tr th:only-of-type {\n",
       "        vertical-align: middle;\n",
       "    }\n",
       "\n",
       "    .dataframe tbody tr th {\n",
       "        vertical-align: top;\n",
       "    }\n",
       "\n",
       "    .dataframe thead th {\n",
       "        text-align: right;\n",
       "    }\n",
       "</style>\n",
       "<table border=\"1\" class=\"dataframe\">\n",
       "  <thead>\n",
       "    <tr style=\"text-align: right;\">\n",
       "      <th></th>\n",
       "      <th>Customer_ID</th>\n",
       "      <th>Product</th>\n",
       "      <th>First_Transaction</th>\n",
       "      <th>Last_Transaction</th>\n",
       "      <th>Average_Transaction_Amount</th>\n",
       "      <th>Count_Transaction</th>\n",
       "      <th>is_churn</th>\n",
       "    </tr>\n",
       "  </thead>\n",
       "  <tbody>\n",
       "    <tr>\n",
       "      <th>95299</th>\n",
       "      <td>194126</td>\n",
       "      <td>Sepatu</td>\n",
       "      <td>2017-12-27 07:57:39.220000000</td>\n",
       "      <td>2017-12-27 07:57:39.220000000</td>\n",
       "      <td>313279</td>\n",
       "      <td>1</td>\n",
       "      <td>True</td>\n",
       "    </tr>\n",
       "    <tr>\n",
       "      <th>11773</th>\n",
       "      <td>29627</td>\n",
       "      <td>Sepatu</td>\n",
       "      <td>2014-07-20 21:28:28.457999872</td>\n",
       "      <td>2015-11-25 02:15:38.555000064</td>\n",
       "      <td>1116208</td>\n",
       "      <td>28</td>\n",
       "      <td>True</td>\n",
       "    </tr>\n",
       "    <tr>\n",
       "      <th>93778</th>\n",
       "      <td>190997</td>\n",
       "      <td>Jaket</td>\n",
       "      <td>2018-07-29 14:07:13.005000192</td>\n",
       "      <td>2018-07-29 14:07:13.005000192</td>\n",
       "      <td>1081297</td>\n",
       "      <td>1</td>\n",
       "      <td>True</td>\n",
       "    </tr>\n",
       "    <tr>\n",
       "      <th>43235</th>\n",
       "      <td>629223</td>\n",
       "      <td>Jaket</td>\n",
       "      <td>2018-08-26 02:31:36.290999808</td>\n",
       "      <td>2018-08-26 02:31:36.290999808</td>\n",
       "      <td>965308</td>\n",
       "      <td>1</td>\n",
       "      <td>False</td>\n",
       "    </tr>\n",
       "    <tr>\n",
       "      <th>29779</th>\n",
       "      <td>41696</td>\n",
       "      <td>Sepatu</td>\n",
       "      <td>2015-10-30 10:09:46.726000128</td>\n",
       "      <td>2015-10-30 10:41:00.193000192</td>\n",
       "      <td>1691368</td>\n",
       "      <td>2</td>\n",
       "      <td>True</td>\n",
       "    </tr>\n",
       "    <tr>\n",
       "      <th>99295</th>\n",
       "      <td>589685</td>\n",
       "      <td>Jaket</td>\n",
       "      <td>2018-10-27 09:15:47.421999872</td>\n",
       "      <td>2018-10-27 09:15:47.421999872</td>\n",
       "      <td>946047</td>\n",
       "      <td>1</td>\n",
       "      <td>False</td>\n",
       "    </tr>\n",
       "    <tr>\n",
       "      <th>84313</th>\n",
       "      <td>114147</td>\n",
       "      <td>Sepatu</td>\n",
       "      <td>2016-12-22 15:44:27.665999872</td>\n",
       "      <td>2016-12-22 15:44:27.665999872</td>\n",
       "      <td>655399</td>\n",
       "      <td>1</td>\n",
       "      <td>True</td>\n",
       "    </tr>\n",
       "    <tr>\n",
       "      <th>84504</th>\n",
       "      <td>29077</td>\n",
       "      <td>Sepatu</td>\n",
       "      <td>2014-07-09 04:46:56.483000064</td>\n",
       "      <td>2014-07-09 04:46:56.483000064</td>\n",
       "      <td>941902</td>\n",
       "      <td>1</td>\n",
       "      <td>True</td>\n",
       "    </tr>\n",
       "    <tr>\n",
       "      <th>33617</th>\n",
       "      <td>195823</td>\n",
       "      <td>Jaket</td>\n",
       "      <td>2018-06-22 07:04:06.017999872</td>\n",
       "      <td>2018-08-27 12:03:31.852000000</td>\n",
       "      <td>282562</td>\n",
       "      <td>5</td>\n",
       "      <td>False</td>\n",
       "    </tr>\n",
       "    <tr>\n",
       "      <th>3045</th>\n",
       "      <td>46670</td>\n",
       "      <td>Sepatu</td>\n",
       "      <td>2015-06-05 23:00:24.404999936</td>\n",
       "      <td>2018-06-17 07:43:37.288000000</td>\n",
       "      <td>1622219</td>\n",
       "      <td>27</td>\n",
       "      <td>True</td>\n",
       "    </tr>\n",
       "  </tbody>\n",
       "</table>\n",
       "</div>"
      ],
      "text/plain": [
       "       Customer_ID Product             First_Transaction  \\\n",
       "95299       194126  Sepatu 2017-12-27 07:57:39.220000000   \n",
       "11773        29627  Sepatu 2014-07-20 21:28:28.457999872   \n",
       "93778       190997   Jaket 2018-07-29 14:07:13.005000192   \n",
       "43235       629223   Jaket 2018-08-26 02:31:36.290999808   \n",
       "29779        41696  Sepatu 2015-10-30 10:09:46.726000128   \n",
       "99295       589685   Jaket 2018-10-27 09:15:47.421999872   \n",
       "84313       114147  Sepatu 2016-12-22 15:44:27.665999872   \n",
       "84504        29077  Sepatu 2014-07-09 04:46:56.483000064   \n",
       "33617       195823   Jaket 2018-06-22 07:04:06.017999872   \n",
       "3045         46670  Sepatu 2015-06-05 23:00:24.404999936   \n",
       "\n",
       "                   Last_Transaction  Average_Transaction_Amount  \\\n",
       "95299 2017-12-27 07:57:39.220000000                      313279   \n",
       "11773 2015-11-25 02:15:38.555000064                     1116208   \n",
       "93778 2018-07-29 14:07:13.005000192                     1081297   \n",
       "43235 2018-08-26 02:31:36.290999808                      965308   \n",
       "29779 2015-10-30 10:41:00.193000192                     1691368   \n",
       "99295 2018-10-27 09:15:47.421999872                      946047   \n",
       "84313 2016-12-22 15:44:27.665999872                      655399   \n",
       "84504 2014-07-09 04:46:56.483000064                      941902   \n",
       "33617 2018-08-27 12:03:31.852000000                      282562   \n",
       "3045  2018-06-17 07:43:37.288000000                     1622219   \n",
       "\n",
       "       Count_Transaction is_churn  \n",
       "95299                  1     True  \n",
       "11773                 28     True  \n",
       "93778                  1     True  \n",
       "43235                  1    False  \n",
       "29779                  2     True  \n",
       "99295                  1    False  \n",
       "84313                  1     True  \n",
       "84504                  1     True  \n",
       "33617                  5    False  \n",
       "3045                  27     True  "
      ]
     },
     "execution_count": 15,
     "metadata": {},
     "output_type": "execute_result"
    }
   ],
   "source": [
    "# cek sample data secara acak sebanyak 10\n",
    "df.sample(10)"
   ]
  },
  {
   "cell_type": "code",
   "execution_count": 16,
   "metadata": {
    "colab": {
     "base_uri": "https://localhost:8080/"
    },
    "id": "ZYVA7Tn3UVeo",
    "outputId": "51a015f8-dbca-4e1f-9021-fa07b6c5a202"
   },
   "outputs": [
    {
     "name": "stdout",
     "output_type": "stream",
     "text": [
      "<class 'pandas.core.frame.DataFrame'>\n",
      "RangeIndex: 100000 entries, 0 to 99999\n",
      "Data columns (total 7 columns):\n",
      " #   Column                      Non-Null Count   Dtype         \n",
      "---  ------                      --------------   -----         \n",
      " 0   Customer_ID                 100000 non-null  int64         \n",
      " 1   Product                     100000 non-null  object        \n",
      " 2   First_Transaction           100000 non-null  datetime64[ns]\n",
      " 3   Last_Transaction            100000 non-null  datetime64[ns]\n",
      " 4   Average_Transaction_Amount  100000 non-null  int64         \n",
      " 5   Count_Transaction           100000 non-null  int64         \n",
      " 6   is_churn                    100000 non-null  object        \n",
      "dtypes: datetime64[ns](2), int64(3), object(2)\n",
      "memory usage: 5.3+ MB\n"
     ]
    }
   ],
   "source": [
    "# cek info data lagi\n",
    "df.info()"
   ]
  },
  {
   "cell_type": "code",
   "execution_count": 17,
   "metadata": {
    "colab": {
     "base_uri": "https://localhost:8080/"
    },
    "id": "zLVTQBZAVCn3",
    "outputId": "95d502ea-547a-49fc-9ee9-6fc4a177182b"
   },
   "outputs": [
    {
     "data": {
      "text/plain": [
       "0        2016\n",
       "1        2014\n",
       "2        2017\n",
       "3        2017\n",
       "4        2015\n",
       "         ... \n",
       "99995    2016\n",
       "99996    2017\n",
       "99997    2015\n",
       "99998    2014\n",
       "99999    2018\n",
       "Name: Year_First_Transaction, Length: 100000, dtype: int64"
      ]
     },
     "execution_count": 17,
     "metadata": {},
     "output_type": "execute_result"
    }
   ],
   "source": [
    "# perlu memisahkan kolom tahun menjadi kolom baru, lakukan pada First_Transaction\n",
    "df['Year_First_Transaction'] = df['First_Transaction'].dt.year\n",
    "df['Year_First_Transaction']"
   ]
  },
  {
   "cell_type": "code",
   "execution_count": 18,
   "metadata": {
    "colab": {
     "base_uri": "https://localhost:8080/"
    },
    "id": "Ja-wxXkuVVrg",
    "outputId": "fdcd3035-8b88-499e-b9da-983afc237870"
   },
   "outputs": [
    {
     "data": {
      "text/plain": [
       "0        2018\n",
       "1        2018\n",
       "2        2019\n",
       "3        2019\n",
       "4        2018\n",
       "         ... \n",
       "99995    2016\n",
       "99996    2017\n",
       "99997    2015\n",
       "99998    2014\n",
       "99999    2018\n",
       "Name: Year_Last_Transaction, Length: 100000, dtype: int64"
      ]
     },
     "execution_count": 18,
     "metadata": {},
     "output_type": "execute_result"
    }
   ],
   "source": [
    "# perlu memisahkan kolom tahun menjadi kolom baru, lakukan pada Last_Transaction\n",
    "df['Year_Last_Transaction'] = df['Last_Transaction'].dt.year\n",
    "df['Year_Last_Transaction']"
   ]
  },
  {
   "cell_type": "code",
   "execution_count": 19,
   "metadata": {
    "id": "2wSBBmq2ZtpY"
   },
   "outputs": [],
   "source": [
    "# perlu dilakukan kategorisasi pada kolom count transaction karena jumlahnya terlalu bervariasi untuk masing-masing customer\n",
    "def kategorisasi(kolom):\n",
    "  if kolom['Count_Transaction']==1:\n",
    "    nilai = '1. 1'\n",
    "  elif (kolom['Count_Transaction'] >1 and kolom['Count_Transaction']<=3):\n",
    "    nilai = '2. 2-3'\n",
    "  elif (kolom['Count_Transaction'] >3 and kolom['Count_Transaction']<=6):\n",
    "    nilai = '3. 4-6'\n",
    "  elif (kolom['Count_Transaction'] >6 and kolom['Count_Transaction']<=10):\n",
    "    nilai = '4. 6-10'\n",
    "  else:\n",
    "    nilai = '5. >10'\n",
    "  return nilai\n",
    "\n"
   ]
  },
  {
   "cell_type": "code",
   "execution_count": 20,
   "metadata": {
    "colab": {
     "base_uri": "https://localhost:8080/",
     "height": 206
    },
    "id": "bs9OEsXSfqPJ",
    "outputId": "024e2373-75db-4ff9-fb81-6c799817f2e7"
   },
   "outputs": [
    {
     "data": {
      "text/html": [
       "<div>\n",
       "<style scoped>\n",
       "    .dataframe tbody tr th:only-of-type {\n",
       "        vertical-align: middle;\n",
       "    }\n",
       "\n",
       "    .dataframe tbody tr th {\n",
       "        vertical-align: top;\n",
       "    }\n",
       "\n",
       "    .dataframe thead th {\n",
       "        text-align: right;\n",
       "    }\n",
       "</style>\n",
       "<table border=\"1\" class=\"dataframe\">\n",
       "  <thead>\n",
       "    <tr style=\"text-align: right;\">\n",
       "      <th></th>\n",
       "      <th>Customer_ID</th>\n",
       "      <th>Product</th>\n",
       "      <th>First_Transaction</th>\n",
       "      <th>Last_Transaction</th>\n",
       "      <th>Average_Transaction_Amount</th>\n",
       "      <th>Count_Transaction</th>\n",
       "      <th>is_churn</th>\n",
       "      <th>Year_First_Transaction</th>\n",
       "      <th>Year_Last_Transaction</th>\n",
       "      <th>Count_Transaction_Group</th>\n",
       "    </tr>\n",
       "  </thead>\n",
       "  <tbody>\n",
       "    <tr>\n",
       "      <th>0</th>\n",
       "      <td>29531</td>\n",
       "      <td>Jaket</td>\n",
       "      <td>2016-06-19 02:44:34.396000000</td>\n",
       "      <td>2018-10-05 05:48:02.608000000</td>\n",
       "      <td>1467681</td>\n",
       "      <td>22</td>\n",
       "      <td>False</td>\n",
       "      <td>2016</td>\n",
       "      <td>2018</td>\n",
       "      <td>5. &gt;10</td>\n",
       "    </tr>\n",
       "    <tr>\n",
       "      <th>1</th>\n",
       "      <td>29531</td>\n",
       "      <td>Sepatu</td>\n",
       "      <td>2014-07-23 01:02:11.493999872</td>\n",
       "      <td>2018-12-25 11:02:41.269999872</td>\n",
       "      <td>1269337</td>\n",
       "      <td>41</td>\n",
       "      <td>False</td>\n",
       "      <td>2014</td>\n",
       "      <td>2018</td>\n",
       "      <td>5. &gt;10</td>\n",
       "    </tr>\n",
       "    <tr>\n",
       "      <th>2</th>\n",
       "      <td>141526</td>\n",
       "      <td>Tas</td>\n",
       "      <td>2017-04-28 03:12:27.000000000</td>\n",
       "      <td>2019-01-24 09:40:02.000000000</td>\n",
       "      <td>310915</td>\n",
       "      <td>30</td>\n",
       "      <td>False</td>\n",
       "      <td>2017</td>\n",
       "      <td>2019</td>\n",
       "      <td>5. &gt;10</td>\n",
       "    </tr>\n",
       "    <tr>\n",
       "      <th>3</th>\n",
       "      <td>141526</td>\n",
       "      <td>Jaket</td>\n",
       "      <td>2017-04-28 06:52:52.546999808</td>\n",
       "      <td>2019-01-16 13:00:03.911000064</td>\n",
       "      <td>722632</td>\n",
       "      <td>27</td>\n",
       "      <td>False</td>\n",
       "      <td>2017</td>\n",
       "      <td>2019</td>\n",
       "      <td>5. &gt;10</td>\n",
       "    </tr>\n",
       "    <tr>\n",
       "      <th>4</th>\n",
       "      <td>37545</td>\n",
       "      <td>Sepatu</td>\n",
       "      <td>2015-04-16 10:01:38.530999808</td>\n",
       "      <td>2018-11-22 12:53:41.529999872</td>\n",
       "      <td>1775036</td>\n",
       "      <td>25</td>\n",
       "      <td>False</td>\n",
       "      <td>2015</td>\n",
       "      <td>2018</td>\n",
       "      <td>5. &gt;10</td>\n",
       "    </tr>\n",
       "  </tbody>\n",
       "</table>\n",
       "</div>"
      ],
      "text/plain": [
       "   Customer_ID Product             First_Transaction  \\\n",
       "0        29531   Jaket 2016-06-19 02:44:34.396000000   \n",
       "1        29531  Sepatu 2014-07-23 01:02:11.493999872   \n",
       "2       141526     Tas 2017-04-28 03:12:27.000000000   \n",
       "3       141526   Jaket 2017-04-28 06:52:52.546999808   \n",
       "4        37545  Sepatu 2015-04-16 10:01:38.530999808   \n",
       "\n",
       "               Last_Transaction  Average_Transaction_Amount  \\\n",
       "0 2018-10-05 05:48:02.608000000                     1467681   \n",
       "1 2018-12-25 11:02:41.269999872                     1269337   \n",
       "2 2019-01-24 09:40:02.000000000                      310915   \n",
       "3 2019-01-16 13:00:03.911000064                      722632   \n",
       "4 2018-11-22 12:53:41.529999872                     1775036   \n",
       "\n",
       "   Count_Transaction is_churn  Year_First_Transaction  Year_Last_Transaction  \\\n",
       "0                 22    False                    2016                   2018   \n",
       "1                 41    False                    2014                   2018   \n",
       "2                 30    False                    2017                   2019   \n",
       "3                 27    False                    2017                   2019   \n",
       "4                 25    False                    2015                   2018   \n",
       "\n",
       "  Count_Transaction_Group  \n",
       "0                  5. >10  \n",
       "1                  5. >10  \n",
       "2                  5. >10  \n",
       "3                  5. >10  \n",
       "4                  5. >10  "
      ]
     },
     "execution_count": 20,
     "metadata": {},
     "output_type": "execute_result"
    }
   ],
   "source": [
    "# buat kolom baru\n",
    "df['Count_Transaction_Group'] = df.apply(kategorisasi, axis =1)\n",
    "df.head()"
   ]
  },
  {
   "cell_type": "code",
   "execution_count": 21,
   "metadata": {
    "id": "_a4lYx40gfGo"
   },
   "outputs": [],
   "source": [
    "# perlu dilakukan juga kategorisasi pada kolom Average_Transaction_Amount karena jumlahnya terlalu bervariasi untuk masing-masing customer\n",
    "def kategori_transaksi(kolom):\n",
    "    if (kolom['Average_Transaction_Amount'] >= 100000 and kolom['Average_Transaction_Amount'] <=250000):\n",
    "        nilai ='1. 100.000 - 250.000'\n",
    "    elif (kolom['Average_Transaction_Amount'] >250000 and kolom['Average_Transaction_Amount'] <= 500000):\n",
    "        nilai ='2. >250.000 - 500.000'\n",
    "    elif (kolom['Average_Transaction_Amount'] >500000 and kolom['Average_Transaction_Amount'] <= 750000):\n",
    "        nilai ='3. >500.000 - 750.000'\n",
    "    elif (kolom['Average_Transaction_Amount'] >750000 and kolom['Average_Transaction_Amount'] <= 1000000):\n",
    "        nilai ='4. >750.000 - 1.000.000'\n",
    "    elif (kolom['Average_Transaction_Amount'] >1000000 and kolom['Average_Transaction_Amount'] <= 2500000):\n",
    "        nilai ='5. >1.000.000 - 2.500.000'\n",
    "    elif (kolom['Average_Transaction_Amount'] >2500000 and kolom['Average_Transaction_Amount'] <= 5000000):\n",
    "        nilai ='6. >2.500.000 - 5.000.000'\n",
    "    elif (kolom['Average_Transaction_Amount'] >5000000 and kolom['Average_Transaction_Amount'] <= 10000000):\n",
    "        nilai ='7. >5.000.000 - 10.000.000'\n",
    "    else:\n",
    "        nilai ='8. >10.000.000'\n",
    "    return nilai"
   ]
  },
  {
   "cell_type": "code",
   "execution_count": 22,
   "metadata": {
    "colab": {
     "base_uri": "https://localhost:8080/",
     "height": 293
    },
    "id": "XUfW7Jiohdiv",
    "outputId": "f81dbbff-211d-43fe-9ea3-695000a73e9a",
    "scrolled": true
   },
   "outputs": [
    {
     "data": {
      "text/html": [
       "<div>\n",
       "<style scoped>\n",
       "    .dataframe tbody tr th:only-of-type {\n",
       "        vertical-align: middle;\n",
       "    }\n",
       "\n",
       "    .dataframe tbody tr th {\n",
       "        vertical-align: top;\n",
       "    }\n",
       "\n",
       "    .dataframe thead th {\n",
       "        text-align: right;\n",
       "    }\n",
       "</style>\n",
       "<table border=\"1\" class=\"dataframe\">\n",
       "  <thead>\n",
       "    <tr style=\"text-align: right;\">\n",
       "      <th></th>\n",
       "      <th>Customer_ID</th>\n",
       "      <th>Product</th>\n",
       "      <th>First_Transaction</th>\n",
       "      <th>Last_Transaction</th>\n",
       "      <th>Average_Transaction_Amount</th>\n",
       "      <th>Count_Transaction</th>\n",
       "      <th>is_churn</th>\n",
       "      <th>Year_First_Transaction</th>\n",
       "      <th>Year_Last_Transaction</th>\n",
       "      <th>Count_Transaction_Group</th>\n",
       "      <th>Average_Transaction_Amount_Group</th>\n",
       "    </tr>\n",
       "  </thead>\n",
       "  <tbody>\n",
       "    <tr>\n",
       "      <th>0</th>\n",
       "      <td>29531</td>\n",
       "      <td>Jaket</td>\n",
       "      <td>2016-06-19 02:44:34.396000000</td>\n",
       "      <td>2018-10-05 05:48:02.608000000</td>\n",
       "      <td>1467681</td>\n",
       "      <td>22</td>\n",
       "      <td>False</td>\n",
       "      <td>2016</td>\n",
       "      <td>2018</td>\n",
       "      <td>5. &gt;10</td>\n",
       "      <td>5. &gt;1.000.000 - 2.500.000</td>\n",
       "    </tr>\n",
       "    <tr>\n",
       "      <th>1</th>\n",
       "      <td>29531</td>\n",
       "      <td>Sepatu</td>\n",
       "      <td>2014-07-23 01:02:11.493999872</td>\n",
       "      <td>2018-12-25 11:02:41.269999872</td>\n",
       "      <td>1269337</td>\n",
       "      <td>41</td>\n",
       "      <td>False</td>\n",
       "      <td>2014</td>\n",
       "      <td>2018</td>\n",
       "      <td>5. &gt;10</td>\n",
       "      <td>5. &gt;1.000.000 - 2.500.000</td>\n",
       "    </tr>\n",
       "    <tr>\n",
       "      <th>2</th>\n",
       "      <td>141526</td>\n",
       "      <td>Tas</td>\n",
       "      <td>2017-04-28 03:12:27.000000000</td>\n",
       "      <td>2019-01-24 09:40:02.000000000</td>\n",
       "      <td>310915</td>\n",
       "      <td>30</td>\n",
       "      <td>False</td>\n",
       "      <td>2017</td>\n",
       "      <td>2019</td>\n",
       "      <td>5. &gt;10</td>\n",
       "      <td>2. &gt;250.000 - 500.000</td>\n",
       "    </tr>\n",
       "    <tr>\n",
       "      <th>3</th>\n",
       "      <td>141526</td>\n",
       "      <td>Jaket</td>\n",
       "      <td>2017-04-28 06:52:52.546999808</td>\n",
       "      <td>2019-01-16 13:00:03.911000064</td>\n",
       "      <td>722632</td>\n",
       "      <td>27</td>\n",
       "      <td>False</td>\n",
       "      <td>2017</td>\n",
       "      <td>2019</td>\n",
       "      <td>5. &gt;10</td>\n",
       "      <td>3. &gt;500.000 - 750.000</td>\n",
       "    </tr>\n",
       "    <tr>\n",
       "      <th>4</th>\n",
       "      <td>37545</td>\n",
       "      <td>Sepatu</td>\n",
       "      <td>2015-04-16 10:01:38.530999808</td>\n",
       "      <td>2018-11-22 12:53:41.529999872</td>\n",
       "      <td>1775036</td>\n",
       "      <td>25</td>\n",
       "      <td>False</td>\n",
       "      <td>2015</td>\n",
       "      <td>2018</td>\n",
       "      <td>5. &gt;10</td>\n",
       "      <td>5. &gt;1.000.000 - 2.500.000</td>\n",
       "    </tr>\n",
       "  </tbody>\n",
       "</table>\n",
       "</div>"
      ],
      "text/plain": [
       "   Customer_ID Product             First_Transaction  \\\n",
       "0        29531   Jaket 2016-06-19 02:44:34.396000000   \n",
       "1        29531  Sepatu 2014-07-23 01:02:11.493999872   \n",
       "2       141526     Tas 2017-04-28 03:12:27.000000000   \n",
       "3       141526   Jaket 2017-04-28 06:52:52.546999808   \n",
       "4        37545  Sepatu 2015-04-16 10:01:38.530999808   \n",
       "\n",
       "               Last_Transaction  Average_Transaction_Amount  \\\n",
       "0 2018-10-05 05:48:02.608000000                     1467681   \n",
       "1 2018-12-25 11:02:41.269999872                     1269337   \n",
       "2 2019-01-24 09:40:02.000000000                      310915   \n",
       "3 2019-01-16 13:00:03.911000064                      722632   \n",
       "4 2018-11-22 12:53:41.529999872                     1775036   \n",
       "\n",
       "   Count_Transaction is_churn  Year_First_Transaction  Year_Last_Transaction  \\\n",
       "0                 22    False                    2016                   2018   \n",
       "1                 41    False                    2014                   2018   \n",
       "2                 30    False                    2017                   2019   \n",
       "3                 27    False                    2017                   2019   \n",
       "4                 25    False                    2015                   2018   \n",
       "\n",
       "  Count_Transaction_Group Average_Transaction_Amount_Group  \n",
       "0                  5. >10        5. >1.000.000 - 2.500.000  \n",
       "1                  5. >10        5. >1.000.000 - 2.500.000  \n",
       "2                  5. >10            2. >250.000 - 500.000  \n",
       "3                  5. >10            3. >500.000 - 750.000  \n",
       "4                  5. >10        5. >1.000.000 - 2.500.000  "
      ]
     },
     "execution_count": 22,
     "metadata": {},
     "output_type": "execute_result"
    }
   ],
   "source": [
    "# buat sebagai kolom baru\n",
    "df['Average_Transaction_Amount_Group'] = df.apply(kategori_transaksi, axis = 1)\n",
    "df.head()"
   ]
  },
  {
   "cell_type": "markdown",
   "metadata": {},
   "source": [
    "## EDA"
   ]
  },
  {
   "cell_type": "code",
   "execution_count": 23,
   "metadata": {
    "colab": {
     "base_uri": "https://localhost:8080/",
     "height": 269
    },
    "id": "f7aCJBLFVgM4",
    "outputId": "e296839f-1b86-465c-9208-ec795e5931be"
   },
   "outputs": [
    {
     "data": {
      "text/html": [
       "<div>\n",
       "<style scoped>\n",
       "    .dataframe tbody tr th:only-of-type {\n",
       "        vertical-align: middle;\n",
       "    }\n",
       "\n",
       "    .dataframe tbody tr th {\n",
       "        vertical-align: top;\n",
       "    }\n",
       "\n",
       "    .dataframe thead th {\n",
       "        text-align: right;\n",
       "    }\n",
       "</style>\n",
       "<table border=\"1\" class=\"dataframe\">\n",
       "  <thead>\n",
       "    <tr style=\"text-align: right;\">\n",
       "      <th></th>\n",
       "      <th>Year_First_Transaction</th>\n",
       "      <th>Jumlah_customer</th>\n",
       "    </tr>\n",
       "  </thead>\n",
       "  <tbody>\n",
       "    <tr>\n",
       "      <th>0</th>\n",
       "      <td>2013</td>\n",
       "      <td>1007</td>\n",
       "    </tr>\n",
       "    <tr>\n",
       "      <th>1</th>\n",
       "      <td>2014</td>\n",
       "      <td>4954</td>\n",
       "    </tr>\n",
       "    <tr>\n",
       "      <th>2</th>\n",
       "      <td>2015</td>\n",
       "      <td>11235</td>\n",
       "    </tr>\n",
       "    <tr>\n",
       "      <th>3</th>\n",
       "      <td>2016</td>\n",
       "      <td>17656</td>\n",
       "    </tr>\n",
       "    <tr>\n",
       "      <th>4</th>\n",
       "      <td>2017</td>\n",
       "      <td>31828</td>\n",
       "    </tr>\n",
       "    <tr>\n",
       "      <th>5</th>\n",
       "      <td>2018</td>\n",
       "      <td>30327</td>\n",
       "    </tr>\n",
       "    <tr>\n",
       "      <th>6</th>\n",
       "      <td>2019</td>\n",
       "      <td>2993</td>\n",
       "    </tr>\n",
       "  </tbody>\n",
       "</table>\n",
       "</div>"
      ],
      "text/plain": [
       "   Year_First_Transaction  Jumlah_customer\n",
       "0                    2013             1007\n",
       "1                    2014             4954\n",
       "2                    2015            11235\n",
       "3                    2016            17656\n",
       "4                    2017            31828\n",
       "5                    2018            30327\n",
       "6                    2019             2993"
      ]
     },
     "execution_count": 23,
     "metadata": {},
     "output_type": "execute_result"
    }
   ],
   "source": [
    "# hitung jumlah customer baru per tahun pertama\n",
    "df_year = df.groupby('Year_First_Transaction')['Customer_ID'].count().reset_index(name = 'Jumlah_customer')\n",
    "df_year"
   ]
  },
  {
   "cell_type": "code",
   "execution_count": 24,
   "metadata": {
    "colab": {
     "base_uri": "https://localhost:8080/",
     "height": 507
    },
    "id": "bxwiPNo5Vuqf",
    "outputId": "36dfae39-800d-4f74-c0fd-7166fd31c94c",
    "scrolled": true
   },
   "outputs": [
    {
     "data": {
      "image/png": "[encoded data removed]",
      "text/plain": [
       "<Figure size 1000x500 with 1 Axes>"
      ]
     },
     "metadata": {},
     "output_type": "display_data"
    }
   ],
   "source": [
    "import seaborn as sns\n",
    "plt.figure(figsize=(10,5))\n",
    "sns.barplot(data = df_year.reset_index(), x = 'Year_First_Transaction', y = 'Jumlah_customer', palette = 'inferno')\n",
    "plt.title('Graph of Customer Acquisition')\n",
    "plt.xlabel('Year_First_Transaction')\n",
    "plt.ylabel('Num_of_Customer')\n",
    "plt.xticks(rotation = 0)\n",
    "plt.tight_layout()\n",
    "plt.show()"
   ]
  },
  {
   "cell_type": "code",
   "execution_count": 25,
   "metadata": {},
   "outputs": [
    {
     "data": {
      "text/html": [
       "<div>\n",
       "<style scoped>\n",
       "    .dataframe tbody tr th:only-of-type {\n",
       "        vertical-align: middle;\n",
       "    }\n",
       "\n",
       "    .dataframe tbody tr th {\n",
       "        vertical-align: top;\n",
       "    }\n",
       "\n",
       "    .dataframe thead th {\n",
       "        text-align: right;\n",
       "    }\n",
       "</style>\n",
       "<table border=\"1\" class=\"dataframe\">\n",
       "  <thead>\n",
       "    <tr style=\"text-align: right;\">\n",
       "      <th></th>\n",
       "      <th>Year_First_Transaction</th>\n",
       "      <th>Count_Transaction</th>\n",
       "    </tr>\n",
       "  </thead>\n",
       "  <tbody>\n",
       "    <tr>\n",
       "      <th>0</th>\n",
       "      <td>2013</td>\n",
       "      <td>23154</td>\n",
       "    </tr>\n",
       "    <tr>\n",
       "      <th>1</th>\n",
       "      <td>2014</td>\n",
       "      <td>165494</td>\n",
       "    </tr>\n",
       "    <tr>\n",
       "      <th>2</th>\n",
       "      <td>2015</td>\n",
       "      <td>297445</td>\n",
       "    </tr>\n",
       "    <tr>\n",
       "      <th>3</th>\n",
       "      <td>2016</td>\n",
       "      <td>278707</td>\n",
       "    </tr>\n",
       "    <tr>\n",
       "      <th>4</th>\n",
       "      <td>2017</td>\n",
       "      <td>299199</td>\n",
       "    </tr>\n",
       "    <tr>\n",
       "      <th>5</th>\n",
       "      <td>2018</td>\n",
       "      <td>99989</td>\n",
       "    </tr>\n",
       "    <tr>\n",
       "      <th>6</th>\n",
       "      <td>2019</td>\n",
       "      <td>5862</td>\n",
       "    </tr>\n",
       "  </tbody>\n",
       "</table>\n",
       "</div>"
      ],
      "text/plain": [
       "   Year_First_Transaction  Count_Transaction\n",
       "0                    2013              23154\n",
       "1                    2014             165494\n",
       "2                    2015             297445\n",
       "3                    2016             278707\n",
       "4                    2017             299199\n",
       "5                    2018              99989\n",
       "6                    2019               5862"
      ]
     },
     "execution_count": 25,
     "metadata": {},
     "output_type": "execute_result"
    }
   ],
   "source": [
    "# hitung junlah transasksi customer sejak tahun pertama transaksi \n",
    "df.groupby(['Year_First_Transaction'])['Count_Transaction'].sum().reset_index()"
   ]
  },
  {
   "cell_type": "code",
   "execution_count": 26,
   "metadata": {
    "colab": {
     "base_uri": "https://localhost:8080/",
     "height": 487
    },
    "id": "7D5SdNqFXMeP",
    "outputId": "5618c52f-a558-4d0d-839c-276d05057f48"
   },
   "outputs": [
    {
     "data": {
      "image/png": "[encoded data removed]",
      "text/plain": [
       "<Figure size 1000x500 with 1 Axes>"
      ]
     },
     "metadata": {},
     "output_type": "display_data"
    }
   ],
   "source": [
    "# hitung junlah transasksi customer sejak tahun pertama transaksi \n",
    "plt.figure(figsize=(10,5))\n",
    "sns.barplot(data = df.groupby(['Year_First_Transaction'])['Count_Transaction'].sum().reset_index(), x = 'Year_First_Transaction', y = 'Count_Transaction', palette = 'inferno')\n",
    "plt.title('Graph of Transaction Customer')\n",
    "plt.xlabel('Year_First_Transaction')\n",
    "plt.ylabel('Num_of_Transaction')\n",
    "plt.xticks(rotation = 0)\n",
    "plt.show()"
   ]
  },
  {
   "cell_type": "code",
   "execution_count": 27,
   "metadata": {
    "colab": {
     "base_uri": "https://localhost:8080/",
     "height": 542
    },
    "id": "6clGUd8HXpLO",
    "outputId": "0a04b0b0-f23b-4aaa-d8f2-559862fab936"
   },
   "outputs": [
    {
     "name": "stderr",
     "output_type": "stream",
     "text": [
      "C:\\Users\\amati\\AppData\\Local\\Temp\\ipykernel_19624\\3327218041.py:4: FutureWarning: The default value of numeric_only in DataFrameGroupBy.mean is deprecated. In a future version, numeric_only will default to False. Either specify numeric_only or select only columns which should be valid for the function.\n",
      "  sns.pointplot(data = df.groupby(['Product','Year_First_Transaction']).mean().reset_index(),\n"
     ]
    },
    {
     "data": {
      "image/png": "[encoded data removed]",
      "text/plain": [
       "<Figure size 1000x500 with 1 Axes>"
      ]
     },
     "metadata": {},
     "output_type": "display_data"
    }
   ],
   "source": [
    "# membuat lineplot  rata-rata jumlah transaksi setiap tahun berdasarkan produk \n",
    "import seaborn as sns\n",
    "plt.figure(figsize=(10,5))\n",
    "sns.pointplot(data = df.groupby(['Product','Year_First_Transaction']).mean().reset_index(),\n",
    "              x = 'Year_First_Transaction',\n",
    "              y='Average_Transaction_Amount',\n",
    "              hue = 'Product',\n",
    "              palette = 'inferno')\n",
    "plt.title('Average transaction amount product by year')\n",
    "plt.show();"
   ]
  },
  {
   "cell_type": "code",
   "execution_count": 28,
   "metadata": {
    "colab": {
     "base_uri": "https://localhost:8080/",
     "height": 143
    },
    "id": "6ZbrF1waYGjW",
    "outputId": "fe19615f-77ca-4558-e779-b85d86e47bf7"
   },
   "outputs": [
    {
     "data": {
      "text/html": [
       "<div>\n",
       "<style scoped>\n",
       "    .dataframe tbody tr th:only-of-type {\n",
       "        vertical-align: middle;\n",
       "    }\n",
       "\n",
       "    .dataframe tbody tr th {\n",
       "        vertical-align: top;\n",
       "    }\n",
       "\n",
       "    .dataframe thead th {\n",
       "        text-align: right;\n",
       "    }\n",
       "</style>\n",
       "<table border=\"1\" class=\"dataframe\">\n",
       "  <thead>\n",
       "    <tr style=\"text-align: right;\">\n",
       "      <th>Product</th>\n",
       "      <th>Baju</th>\n",
       "      <th>Jaket</th>\n",
       "      <th>Sepatu</th>\n",
       "      <th>Tas</th>\n",
       "    </tr>\n",
       "    <tr>\n",
       "      <th>is_churn</th>\n",
       "      <th></th>\n",
       "      <th></th>\n",
       "      <th></th>\n",
       "      <th></th>\n",
       "    </tr>\n",
       "  </thead>\n",
       "  <tbody>\n",
       "    <tr>\n",
       "      <th>False</th>\n",
       "      <td>1268</td>\n",
       "      <td>11123</td>\n",
       "      <td>16064</td>\n",
       "      <td>4976</td>\n",
       "    </tr>\n",
       "    <tr>\n",
       "      <th>True</th>\n",
       "      <td>2144</td>\n",
       "      <td>23827</td>\n",
       "      <td>33090</td>\n",
       "      <td>7508</td>\n",
       "    </tr>\n",
       "  </tbody>\n",
       "</table>\n",
       "</div>"
      ],
      "text/plain": [
       "Product   Baju  Jaket  Sepatu   Tas\n",
       "is_churn                           \n",
       "False     1268  11123   16064  4976\n",
       "True      2144  23827   33090  7508"
      ]
     },
     "execution_count": 28,
     "metadata": {},
     "output_type": "execute_result"
    }
   ],
   "source": [
    "# Menghitung proporsi customer churn berdasarkan product\n",
    "# diperlukan pivot_table\n",
    "df_piv = df.pivot_table(index='is_churn',\n",
    "                        columns='Product',\n",
    "                        values='Customer_ID',\n",
    "                        aggfunc='count',\n",
    "                        fill_value=0)\n",
    "df_piv"
   ]
  },
  {
   "cell_type": "code",
   "execution_count": 29,
   "metadata": {
    "colab": {
     "base_uri": "https://localhost:8080/",
     "height": 724
    },
    "id": "j5Tle6LdZMMI",
    "outputId": "10fd06a9-36e8-4958-e49f-4290bbfe3d56"
   },
   "outputs": [
    {
     "data": {
      "text/plain": [
       "<Figure size 1000x500 with 0 Axes>"
      ]
     },
     "metadata": {},
     "output_type": "display_data"
    },
    {
     "data": {
      "text/plain": [
       "<Figure size 1000x500 with 0 Axes>"
      ]
     },
     "metadata": {},
     "output_type": "display_data"
    },
    {
     "data": {
      "image/png": "[encoded data removed]",
      "text/plain": [
       "<Figure size 1000x700 with 4 Axes>"
      ]
     },
     "metadata": {},
     "output_type": "display_data"
    }
   ],
   "source": [
    "# Membuat index product \n",
    "plt.figure(figsize=(10,5))\n",
    "plot_product = df_piv.count().sort_values(ascending=False).head(5).index\n",
    "plot_product\n",
    "# membuat plotting dalam bentuk pie chart\n",
    "plt.figure(figsize=(10,5))\n",
    "df_piv = df_piv.reindex(columns=plot_product)\n",
    "df_piv.plot.pie(subplots=True, figsize=(10, 7), layout=(-1, 2), autopct='%1.0f%%',\n",
    "                title='Proportion Churn by Product')\n",
    "plt.tight_layout()\n",
    "plt.show()"
   ]
  },
  {
   "cell_type": "code",
   "execution_count": 30,
   "metadata": {
    "id": "u8hjfiTTgEkB"
   },
   "outputs": [
    {
     "data": {
      "text/html": [
       "<div>\n",
       "<style scoped>\n",
       "    .dataframe tbody tr th:only-of-type {\n",
       "        vertical-align: middle;\n",
       "    }\n",
       "\n",
       "    .dataframe tbody tr th {\n",
       "        vertical-align: top;\n",
       "    }\n",
       "\n",
       "    .dataframe thead th {\n",
       "        text-align: right;\n",
       "    }\n",
       "</style>\n",
       "<table border=\"1\" class=\"dataframe\">\n",
       "  <thead>\n",
       "    <tr style=\"text-align: right;\">\n",
       "      <th></th>\n",
       "      <th>Count_Transaction_Group</th>\n",
       "      <th>Customer_ID</th>\n",
       "    </tr>\n",
       "  </thead>\n",
       "  <tbody>\n",
       "    <tr>\n",
       "      <th>0</th>\n",
       "      <td>1. 1</td>\n",
       "      <td>49255</td>\n",
       "    </tr>\n",
       "    <tr>\n",
       "      <th>1</th>\n",
       "      <td>2. 2-3</td>\n",
       "      <td>14272</td>\n",
       "    </tr>\n",
       "    <tr>\n",
       "      <th>2</th>\n",
       "      <td>3. 4-6</td>\n",
       "      <td>12126</td>\n",
       "    </tr>\n",
       "    <tr>\n",
       "      <th>3</th>\n",
       "      <td>4. 6-10</td>\n",
       "      <td>2890</td>\n",
       "    </tr>\n",
       "    <tr>\n",
       "      <th>4</th>\n",
       "      <td>5. &gt;10</td>\n",
       "      <td>21457</td>\n",
       "    </tr>\n",
       "  </tbody>\n",
       "</table>\n",
       "</div>"
      ],
      "text/plain": [
       "  Count_Transaction_Group  Customer_ID\n",
       "0                    1. 1        49255\n",
       "1                  2. 2-3        14272\n",
       "2                  3. 4-6        12126\n",
       "3                 4. 6-10         2890\n",
       "4                  5. >10        21457"
      ]
     },
     "execution_count": 30,
     "metadata": {},
     "output_type": "execute_result"
    }
   ],
   "source": [
    "# menghitung customer berdasarkan kategorisasi jumlah transaksi\n",
    "df.groupby(['Count_Transaction_Group'])['Customer_ID'].count().reset_index()"
   ]
  },
  {
   "cell_type": "code",
   "execution_count": 31,
   "metadata": {
    "colab": {
     "base_uri": "https://localhost:8080/",
     "height": 507
    },
    "id": "R_q_pGj8gb5g",
    "outputId": "91f1e1b9-4f91-44ad-f224-9005420d6b86"
   },
   "outputs": [
    {
     "data": {
      "image/png": "[encoded data removed]",
      "text/plain": [
       "<Figure size 1000x500 with 1 Axes>"
      ]
     },
     "metadata": {},
     "output_type": "display_data"
    }
   ],
   "source": [
    "plt.figure(figsize=(10,5))\n",
    "sns.barplot(data = df.groupby(['Count_Transaction_Group'])['Customer_ID'].count().reset_index(), x = 'Count_Transaction_Group', y ='Customer_ID', palette = 'inferno')\n",
    "plt.title('Customer Distribution by Count Transaction Group')\n",
    "plt.xlabel('Count_Transaction_Group')\n",
    "plt.ylabel('Num_of_Customer')\n",
    "plt.tight_layout()\n",
    "plt.show()"
   ]
  },
  {
   "cell_type": "code",
   "execution_count": 32,
   "metadata": {
    "colab": {
     "base_uri": "https://localhost:8080/",
     "height": 300
    },
    "id": "UTjEP3UGhyJp",
    "outputId": "02336437-3c95-4d67-cbe2-a94d0b3432c1"
   },
   "outputs": [
    {
     "data": {
      "text/html": [
       "<div>\n",
       "<style scoped>\n",
       "    .dataframe tbody tr th:only-of-type {\n",
       "        vertical-align: middle;\n",
       "    }\n",
       "\n",
       "    .dataframe tbody tr th {\n",
       "        vertical-align: top;\n",
       "    }\n",
       "\n",
       "    .dataframe thead th {\n",
       "        text-align: right;\n",
       "    }\n",
       "</style>\n",
       "<table border=\"1\" class=\"dataframe\">\n",
       "  <thead>\n",
       "    <tr style=\"text-align: right;\">\n",
       "      <th></th>\n",
       "      <th>Average_Transaction_Amount_Group</th>\n",
       "      <th>Jumlah customer</th>\n",
       "    </tr>\n",
       "  </thead>\n",
       "  <tbody>\n",
       "    <tr>\n",
       "      <th>0</th>\n",
       "      <td>1. 100.000 - 250.000</td>\n",
       "      <td>7944</td>\n",
       "    </tr>\n",
       "    <tr>\n",
       "      <th>1</th>\n",
       "      <td>2. &gt;250.000 - 500.000</td>\n",
       "      <td>18857</td>\n",
       "    </tr>\n",
       "    <tr>\n",
       "      <th>2</th>\n",
       "      <td>3. &gt;500.000 - 750.000</td>\n",
       "      <td>15171</td>\n",
       "    </tr>\n",
       "    <tr>\n",
       "      <th>3</th>\n",
       "      <td>4. &gt;750.000 - 1.000.000</td>\n",
       "      <td>12298</td>\n",
       "    </tr>\n",
       "    <tr>\n",
       "      <th>4</th>\n",
       "      <td>5. &gt;1.000.000 - 2.500.000</td>\n",
       "      <td>32819</td>\n",
       "    </tr>\n",
       "    <tr>\n",
       "      <th>5</th>\n",
       "      <td>6. &gt;2.500.000 - 5.000.000</td>\n",
       "      <td>9027</td>\n",
       "    </tr>\n",
       "    <tr>\n",
       "      <th>6</th>\n",
       "      <td>7. &gt;5.000.000 - 10.000.000</td>\n",
       "      <td>3689</td>\n",
       "    </tr>\n",
       "    <tr>\n",
       "      <th>7</th>\n",
       "      <td>8. &gt;10.000.000</td>\n",
       "      <td>195</td>\n",
       "    </tr>\n",
       "  </tbody>\n",
       "</table>\n",
       "</div>"
      ],
      "text/plain": [
       "  Average_Transaction_Amount_Group  Jumlah customer\n",
       "0             1. 100.000 - 250.000             7944\n",
       "1            2. >250.000 - 500.000            18857\n",
       "2            3. >500.000 - 750.000            15171\n",
       "3          4. >750.000 - 1.000.000            12298\n",
       "4        5. >1.000.000 - 2.500.000            32819\n",
       "5        6. >2.500.000 - 5.000.000             9027\n",
       "6       7. >5.000.000 - 10.000.000             3689\n",
       "7                   8. >10.000.000              195"
      ]
     },
     "execution_count": 32,
     "metadata": {},
     "output_type": "execute_result"
    }
   ],
   "source": [
    "# menghitung jumlah customer berdasarkan rata-rata jumlah transaksi\n",
    "df.groupby('Average_Transaction_Amount_Group')['Customer_ID'].count().reset_index(name = 'Jumlah customer')\n"
   ]
  },
  {
   "cell_type": "code",
   "execution_count": 33,
   "metadata": {
    "colab": {
     "base_uri": "https://localhost:8080/",
     "height": 507
    },
    "id": "bLgnMIyOh-wS",
    "outputId": "e79b8954-5f9d-4078-dfbc-d998e747f1b0"
   },
   "outputs": [
    {
     "data": {
      "image/png": "[encoded data removed]",
      "text/plain": [
       "<Figure size 1000x500 with 1 Axes>"
      ]
     },
     "metadata": {},
     "output_type": "display_data"
    }
   ],
   "source": [
    "plt.figure(figsize=(10,5))\n",
    "sns.barplot(data = df.groupby('Average_Transaction_Amount_Group')['Customer_ID'].count().reset_index(name = 'Jumlah customer')\n",
    "            , x ='Average_Transaction_Amount_Group', y = 'Jumlah customer', palette = 'inferno' )\n",
    "plt.title('Customer Distribution by Average Transaction Amount Group')\n",
    "plt.xlabel('Average_Transaction_Amount_Group')\n",
    "plt.ylabel('Num_of_Customer')\n",
    "plt.xticks(rotation = 90)\n",
    "plt.tight_layout()\n",
    "plt.show()"
   ]
  },
  {
   "cell_type": "code",
   "execution_count": 34,
   "metadata": {
    "id": "Y9i36LI8qMW0"
   },
   "outputs": [],
   "source": [
    "#save dataframe\n",
    "df.to_csv('data_retail_cleaning.csv',index = False)"
   ]
  },
  {
   "cell_type": "markdown",
   "metadata": {
    "id": "WzIjaPISQY3S"
   },
   "source": [
    "# **Prediction Modelling**"
   ]
  },
  {
   "cell_type": "markdown",
   "metadata": {},
   "source": [
    "## Data preparation"
   ]
  },
  {
   "cell_type": "code",
   "execution_count": 35,
   "metadata": {
    "scrolled": false
   },
   "outputs": [
    {
     "data": {
      "text/html": [
       "<div>\n",
       "<style scoped>\n",
       "    .dataframe tbody tr th:only-of-type {\n",
       "        vertical-align: middle;\n",
       "    }\n",
       "\n",
       "    .dataframe tbody tr th {\n",
       "        vertical-align: top;\n",
       "    }\n",
       "\n",
       "    .dataframe thead th {\n",
       "        text-align: right;\n",
       "    }\n",
       "</style>\n",
       "<table border=\"1\" class=\"dataframe\">\n",
       "  <thead>\n",
       "    <tr style=\"text-align: right;\">\n",
       "      <th></th>\n",
       "      <th>Customer_ID</th>\n",
       "      <th>Product</th>\n",
       "      <th>First_Transaction</th>\n",
       "      <th>Last_Transaction</th>\n",
       "      <th>Average_Transaction_Amount</th>\n",
       "      <th>Count_Transaction</th>\n",
       "      <th>is_churn</th>\n",
       "      <th>Year_First_Transaction</th>\n",
       "      <th>Year_Last_Transaction</th>\n",
       "      <th>Count_Transaction_Group</th>\n",
       "      <th>Average_Transaction_Amount_Group</th>\n",
       "    </tr>\n",
       "  </thead>\n",
       "  <tbody>\n",
       "    <tr>\n",
       "      <th>0</th>\n",
       "      <td>29531</td>\n",
       "      <td>Jaket</td>\n",
       "      <td>2016-06-19 02:44:34.396000000</td>\n",
       "      <td>2018-10-05 05:48:02.608000000</td>\n",
       "      <td>1467681</td>\n",
       "      <td>22</td>\n",
       "      <td>False</td>\n",
       "      <td>2016</td>\n",
       "      <td>2018</td>\n",
       "      <td>5. &gt;10</td>\n",
       "      <td>5. &gt;1.000.000 - 2.500.000</td>\n",
       "    </tr>\n",
       "    <tr>\n",
       "      <th>1</th>\n",
       "      <td>29531</td>\n",
       "      <td>Sepatu</td>\n",
       "      <td>2014-07-23 01:02:11.493999872</td>\n",
       "      <td>2018-12-25 11:02:41.269999872</td>\n",
       "      <td>1269337</td>\n",
       "      <td>41</td>\n",
       "      <td>False</td>\n",
       "      <td>2014</td>\n",
       "      <td>2018</td>\n",
       "      <td>5. &gt;10</td>\n",
       "      <td>5. &gt;1.000.000 - 2.500.000</td>\n",
       "    </tr>\n",
       "    <tr>\n",
       "      <th>2</th>\n",
       "      <td>141526</td>\n",
       "      <td>Tas</td>\n",
       "      <td>2017-04-28 03:12:27.000000000</td>\n",
       "      <td>2019-01-24 09:40:02.000000000</td>\n",
       "      <td>310915</td>\n",
       "      <td>30</td>\n",
       "      <td>False</td>\n",
       "      <td>2017</td>\n",
       "      <td>2019</td>\n",
       "      <td>5. &gt;10</td>\n",
       "      <td>2. &gt;250.000 - 500.000</td>\n",
       "    </tr>\n",
       "    <tr>\n",
       "      <th>3</th>\n",
       "      <td>141526</td>\n",
       "      <td>Jaket</td>\n",
       "      <td>2017-04-28 06:52:52.546999808</td>\n",
       "      <td>2019-01-16 13:00:03.911000064</td>\n",
       "      <td>722632</td>\n",
       "      <td>27</td>\n",
       "      <td>False</td>\n",
       "      <td>2017</td>\n",
       "      <td>2019</td>\n",
       "      <td>5. &gt;10</td>\n",
       "      <td>3. &gt;500.000 - 750.000</td>\n",
       "    </tr>\n",
       "    <tr>\n",
       "      <th>4</th>\n",
       "      <td>37545</td>\n",
       "      <td>Sepatu</td>\n",
       "      <td>2015-04-16 10:01:38.530999808</td>\n",
       "      <td>2018-11-22 12:53:41.529999872</td>\n",
       "      <td>1775036</td>\n",
       "      <td>25</td>\n",
       "      <td>False</td>\n",
       "      <td>2015</td>\n",
       "      <td>2018</td>\n",
       "      <td>5. &gt;10</td>\n",
       "      <td>5. &gt;1.000.000 - 2.500.000</td>\n",
       "    </tr>\n",
       "  </tbody>\n",
       "</table>\n",
       "</div>"
      ],
      "text/plain": [
       "   Customer_ID Product             First_Transaction  \\\n",
       "0        29531   Jaket 2016-06-19 02:44:34.396000000   \n",
       "1        29531  Sepatu 2014-07-23 01:02:11.493999872   \n",
       "2       141526     Tas 2017-04-28 03:12:27.000000000   \n",
       "3       141526   Jaket 2017-04-28 06:52:52.546999808   \n",
       "4        37545  Sepatu 2015-04-16 10:01:38.530999808   \n",
       "\n",
       "               Last_Transaction  Average_Transaction_Amount  \\\n",
       "0 2018-10-05 05:48:02.608000000                     1467681   \n",
       "1 2018-12-25 11:02:41.269999872                     1269337   \n",
       "2 2019-01-24 09:40:02.000000000                      310915   \n",
       "3 2019-01-16 13:00:03.911000064                      722632   \n",
       "4 2018-11-22 12:53:41.529999872                     1775036   \n",
       "\n",
       "   Count_Transaction is_churn  Year_First_Transaction  Year_Last_Transaction  \\\n",
       "0                 22    False                    2016                   2018   \n",
       "1                 41    False                    2014                   2018   \n",
       "2                 30    False                    2017                   2019   \n",
       "3                 27    False                    2017                   2019   \n",
       "4                 25    False                    2015                   2018   \n",
       "\n",
       "  Count_Transaction_Group Average_Transaction_Amount_Group  \n",
       "0                  5. >10        5. >1.000.000 - 2.500.000  \n",
       "1                  5. >10        5. >1.000.000 - 2.500.000  \n",
       "2                  5. >10            2. >250.000 - 500.000  \n",
       "3                  5. >10            3. >500.000 - 750.000  \n",
       "4                  5. >10        5. >1.000.000 - 2.500.000  "
      ]
     },
     "execution_count": 35,
     "metadata": {},
     "output_type": "execute_result"
    }
   ],
   "source": [
    "# Membuat variabel baru untuk dataset\n",
    "df2 = df\n",
    "df2.head()"
   ]
  },
  {
   "cell_type": "code",
   "execution_count": 36,
   "metadata": {},
   "outputs": [],
   "source": [
    "# kolom churn masih berupa True and False rubah menjadi 1 untuk True dan 0 untuk False\n",
    "from sklearn.preprocessing import LabelEncoder\n",
    "df2['is_churn'] = LabelEncoder().fit_transform(df['is_churn'])"
   ]
  },
  {
   "cell_type": "code",
   "execution_count": 37,
   "metadata": {},
   "outputs": [
    {
     "data": {
      "text/html": [
       "<div>\n",
       "<style scoped>\n",
       "    .dataframe tbody tr th:only-of-type {\n",
       "        vertical-align: middle;\n",
       "    }\n",
       "\n",
       "    .dataframe tbody tr th {\n",
       "        vertical-align: top;\n",
       "    }\n",
       "\n",
       "    .dataframe thead th {\n",
       "        text-align: right;\n",
       "    }\n",
       "</style>\n",
       "<table border=\"1\" class=\"dataframe\">\n",
       "  <thead>\n",
       "    <tr style=\"text-align: right;\">\n",
       "      <th></th>\n",
       "      <th>Customer_ID</th>\n",
       "      <th>Product</th>\n",
       "      <th>First_Transaction</th>\n",
       "      <th>Last_Transaction</th>\n",
       "      <th>Average_Transaction_Amount</th>\n",
       "      <th>Count_Transaction</th>\n",
       "      <th>is_churn</th>\n",
       "      <th>Year_First_Transaction</th>\n",
       "      <th>Year_Last_Transaction</th>\n",
       "      <th>Count_Transaction_Group</th>\n",
       "      <th>Average_Transaction_Amount_Group</th>\n",
       "    </tr>\n",
       "  </thead>\n",
       "  <tbody>\n",
       "    <tr>\n",
       "      <th>80165</th>\n",
       "      <td>128075</td>\n",
       "      <td>Jaket</td>\n",
       "      <td>2017-04-14 13:41:14.668999936</td>\n",
       "      <td>2017-04-14 13:45:59.627000064</td>\n",
       "      <td>466609</td>\n",
       "      <td>4</td>\n",
       "      <td>1</td>\n",
       "      <td>2017</td>\n",
       "      <td>2017</td>\n",
       "      <td>3. 4-6</td>\n",
       "      <td>2. &gt;250.000 - 500.000</td>\n",
       "    </tr>\n",
       "    <tr>\n",
       "      <th>83304</th>\n",
       "      <td>475151</td>\n",
       "      <td>Sepatu</td>\n",
       "      <td>2018-05-22 15:49:50.207000064</td>\n",
       "      <td>2018-05-22 15:49:50.207000064</td>\n",
       "      <td>621210</td>\n",
       "      <td>1</td>\n",
       "      <td>1</td>\n",
       "      <td>2018</td>\n",
       "      <td>2018</td>\n",
       "      <td>1. 1</td>\n",
       "      <td>3. &gt;500.000 - 750.000</td>\n",
       "    </tr>\n",
       "    <tr>\n",
       "      <th>82615</th>\n",
       "      <td>132273</td>\n",
       "      <td>Jaket</td>\n",
       "      <td>2017-09-13 11:51:11.289999872</td>\n",
       "      <td>2017-09-13 11:51:11.289999872</td>\n",
       "      <td>179905</td>\n",
       "      <td>1</td>\n",
       "      <td>1</td>\n",
       "      <td>2017</td>\n",
       "      <td>2017</td>\n",
       "      <td>1. 1</td>\n",
       "      <td>1. 100.000 - 250.000</td>\n",
       "    </tr>\n",
       "    <tr>\n",
       "      <th>52691</th>\n",
       "      <td>40383</td>\n",
       "      <td>Tas</td>\n",
       "      <td>2017-03-30 15:20:24.000000000</td>\n",
       "      <td>2017-03-30 15:23:16.000000000</td>\n",
       "      <td>1403070</td>\n",
       "      <td>2</td>\n",
       "      <td>1</td>\n",
       "      <td>2017</td>\n",
       "      <td>2017</td>\n",
       "      <td>2. 2-3</td>\n",
       "      <td>5. &gt;1.000.000 - 2.500.000</td>\n",
       "    </tr>\n",
       "    <tr>\n",
       "      <th>2206</th>\n",
       "      <td>36571</td>\n",
       "      <td>Jaket</td>\n",
       "      <td>2015-12-05 16:21:07.704000000</td>\n",
       "      <td>2018-11-13 23:01:20.331000064</td>\n",
       "      <td>1109792</td>\n",
       "      <td>26</td>\n",
       "      <td>0</td>\n",
       "      <td>2015</td>\n",
       "      <td>2018</td>\n",
       "      <td>5. &gt;10</td>\n",
       "      <td>5. &gt;1.000.000 - 2.500.000</td>\n",
       "    </tr>\n",
       "    <tr>\n",
       "      <th>98134</th>\n",
       "      <td>86766</td>\n",
       "      <td>Baju</td>\n",
       "      <td>2017-12-12 03:04:02.000000000</td>\n",
       "      <td>2017-12-12 03:04:02.000000000</td>\n",
       "      <td>2385549</td>\n",
       "      <td>1</td>\n",
       "      <td>1</td>\n",
       "      <td>2017</td>\n",
       "      <td>2017</td>\n",
       "      <td>1. 1</td>\n",
       "      <td>5. &gt;1.000.000 - 2.500.000</td>\n",
       "    </tr>\n",
       "    <tr>\n",
       "      <th>68990</th>\n",
       "      <td>702293</td>\n",
       "      <td>Jaket</td>\n",
       "      <td>2018-10-20 05:23:22.851000064</td>\n",
       "      <td>2018-10-20 05:23:22.851000064</td>\n",
       "      <td>934469</td>\n",
       "      <td>1</td>\n",
       "      <td>0</td>\n",
       "      <td>2018</td>\n",
       "      <td>2018</td>\n",
       "      <td>1. 1</td>\n",
       "      <td>4. &gt;750.000 - 1.000.000</td>\n",
       "    </tr>\n",
       "    <tr>\n",
       "      <th>38967</th>\n",
       "      <td>579717</td>\n",
       "      <td>Tas</td>\n",
       "      <td>2018-07-23 06:27:10.000000000</td>\n",
       "      <td>2018-07-23 06:31:43.000000000</td>\n",
       "      <td>518588</td>\n",
       "      <td>4</td>\n",
       "      <td>1</td>\n",
       "      <td>2018</td>\n",
       "      <td>2018</td>\n",
       "      <td>3. 4-6</td>\n",
       "      <td>3. &gt;500.000 - 750.000</td>\n",
       "    </tr>\n",
       "    <tr>\n",
       "      <th>38185</th>\n",
       "      <td>189821</td>\n",
       "      <td>Jaket</td>\n",
       "      <td>2018-08-10 06:23:26.473999872</td>\n",
       "      <td>2018-08-10 06:23:26.473999872</td>\n",
       "      <td>495196</td>\n",
       "      <td>1</td>\n",
       "      <td>0</td>\n",
       "      <td>2018</td>\n",
       "      <td>2018</td>\n",
       "      <td>1. 1</td>\n",
       "      <td>2. &gt;250.000 - 500.000</td>\n",
       "    </tr>\n",
       "    <tr>\n",
       "      <th>45877</th>\n",
       "      <td>149286</td>\n",
       "      <td>Sepatu</td>\n",
       "      <td>2017-05-26 12:29:29.543000064</td>\n",
       "      <td>2017-05-26 12:29:29.543000064</td>\n",
       "      <td>642063</td>\n",
       "      <td>1</td>\n",
       "      <td>1</td>\n",
       "      <td>2017</td>\n",
       "      <td>2017</td>\n",
       "      <td>1. 1</td>\n",
       "      <td>3. &gt;500.000 - 750.000</td>\n",
       "    </tr>\n",
       "  </tbody>\n",
       "</table>\n",
       "</div>"
      ],
      "text/plain": [
       "       Customer_ID Product             First_Transaction  \\\n",
       "80165       128075   Jaket 2017-04-14 13:41:14.668999936   \n",
       "83304       475151  Sepatu 2018-05-22 15:49:50.207000064   \n",
       "82615       132273   Jaket 2017-09-13 11:51:11.289999872   \n",
       "52691        40383     Tas 2017-03-30 15:20:24.000000000   \n",
       "2206         36571   Jaket 2015-12-05 16:21:07.704000000   \n",
       "98134        86766    Baju 2017-12-12 03:04:02.000000000   \n",
       "68990       702293   Jaket 2018-10-20 05:23:22.851000064   \n",
       "38967       579717     Tas 2018-07-23 06:27:10.000000000   \n",
       "38185       189821   Jaket 2018-08-10 06:23:26.473999872   \n",
       "45877       149286  Sepatu 2017-05-26 12:29:29.543000064   \n",
       "\n",
       "                   Last_Transaction  Average_Transaction_Amount  \\\n",
       "80165 2017-04-14 13:45:59.627000064                      466609   \n",
       "83304 2018-05-22 15:49:50.207000064                      621210   \n",
       "82615 2017-09-13 11:51:11.289999872                      179905   \n",
       "52691 2017-03-30 15:23:16.000000000                     1403070   \n",
       "2206  2018-11-13 23:01:20.331000064                     1109792   \n",
       "98134 2017-12-12 03:04:02.000000000                     2385549   \n",
       "68990 2018-10-20 05:23:22.851000064                      934469   \n",
       "38967 2018-07-23 06:31:43.000000000                      518588   \n",
       "38185 2018-08-10 06:23:26.473999872                      495196   \n",
       "45877 2017-05-26 12:29:29.543000064                      642063   \n",
       "\n",
       "       Count_Transaction  is_churn  Year_First_Transaction  \\\n",
       "80165                  4         1                    2017   \n",
       "83304                  1         1                    2018   \n",
       "82615                  1         1                    2017   \n",
       "52691                  2         1                    2017   \n",
       "2206                  26         0                    2015   \n",
       "98134                  1         1                    2017   \n",
       "68990                  1         0                    2018   \n",
       "38967                  4         1                    2018   \n",
       "38185                  1         0                    2018   \n",
       "45877                  1         1                    2017   \n",
       "\n",
       "       Year_Last_Transaction Count_Transaction_Group  \\\n",
       "80165                   2017                  3. 4-6   \n",
       "83304                   2018                    1. 1   \n",
       "82615                   2017                    1. 1   \n",
       "52691                   2017                  2. 2-3   \n",
       "2206                    2018                  5. >10   \n",
       "98134                   2017                    1. 1   \n",
       "68990                   2018                    1. 1   \n",
       "38967                   2018                  3. 4-6   \n",
       "38185                   2018                    1. 1   \n",
       "45877                   2017                    1. 1   \n",
       "\n",
       "      Average_Transaction_Amount_Group  \n",
       "80165            2. >250.000 - 500.000  \n",
       "83304            3. >500.000 - 750.000  \n",
       "82615             1. 100.000 - 250.000  \n",
       "52691        5. >1.000.000 - 2.500.000  \n",
       "2206         5. >1.000.000 - 2.500.000  \n",
       "98134        5. >1.000.000 - 2.500.000  \n",
       "68990          4. >750.000 - 1.000.000  \n",
       "38967            3. >500.000 - 750.000  \n",
       "38185            2. >250.000 - 500.000  \n",
       "45877            3. >500.000 - 750.000  "
      ]
     },
     "execution_count": 37,
     "metadata": {},
     "output_type": "execute_result"
    }
   ],
   "source": [
    "df2.sample(10)"
   ]
  },
  {
   "cell_type": "code",
   "execution_count": 38,
   "metadata": {},
   "outputs": [
    {
     "data": {
      "text/html": [
       "<div>\n",
       "<style scoped>\n",
       "    .dataframe tbody tr th:only-of-type {\n",
       "        vertical-align: middle;\n",
       "    }\n",
       "\n",
       "    .dataframe tbody tr th {\n",
       "        vertical-align: top;\n",
       "    }\n",
       "\n",
       "    .dataframe thead th {\n",
       "        text-align: right;\n",
       "    }\n",
       "</style>\n",
       "<table border=\"1\" class=\"dataframe\">\n",
       "  <thead>\n",
       "    <tr style=\"text-align: right;\">\n",
       "      <th></th>\n",
       "      <th>Customer_ID</th>\n",
       "      <th>Product</th>\n",
       "      <th>First_Transaction</th>\n",
       "      <th>Last_Transaction</th>\n",
       "      <th>Average_Transaction_Amount</th>\n",
       "      <th>Count_Transaction</th>\n",
       "      <th>is_churn</th>\n",
       "      <th>Year_First_Transaction</th>\n",
       "      <th>Year_Last_Transaction</th>\n",
       "      <th>Count_Transaction_Group</th>\n",
       "      <th>Average_Transaction_Amount_Group</th>\n",
       "      <th>Year_diff</th>\n",
       "    </tr>\n",
       "  </thead>\n",
       "  <tbody>\n",
       "    <tr>\n",
       "      <th>0</th>\n",
       "      <td>29531</td>\n",
       "      <td>Jaket</td>\n",
       "      <td>2016-06-19 02:44:34.396000000</td>\n",
       "      <td>2018-10-05 05:48:02.608000000</td>\n",
       "      <td>1467681</td>\n",
       "      <td>22</td>\n",
       "      <td>0</td>\n",
       "      <td>2016</td>\n",
       "      <td>2018</td>\n",
       "      <td>5. &gt;10</td>\n",
       "      <td>5. &gt;1.000.000 - 2.500.000</td>\n",
       "      <td>2</td>\n",
       "    </tr>\n",
       "    <tr>\n",
       "      <th>1</th>\n",
       "      <td>29531</td>\n",
       "      <td>Sepatu</td>\n",
       "      <td>2014-07-23 01:02:11.493999872</td>\n",
       "      <td>2018-12-25 11:02:41.269999872</td>\n",
       "      <td>1269337</td>\n",
       "      <td>41</td>\n",
       "      <td>0</td>\n",
       "      <td>2014</td>\n",
       "      <td>2018</td>\n",
       "      <td>5. &gt;10</td>\n",
       "      <td>5. &gt;1.000.000 - 2.500.000</td>\n",
       "      <td>4</td>\n",
       "    </tr>\n",
       "    <tr>\n",
       "      <th>2</th>\n",
       "      <td>141526</td>\n",
       "      <td>Tas</td>\n",
       "      <td>2017-04-28 03:12:27.000000000</td>\n",
       "      <td>2019-01-24 09:40:02.000000000</td>\n",
       "      <td>310915</td>\n",
       "      <td>30</td>\n",
       "      <td>0</td>\n",
       "      <td>2017</td>\n",
       "      <td>2019</td>\n",
       "      <td>5. &gt;10</td>\n",
       "      <td>2. &gt;250.000 - 500.000</td>\n",
       "      <td>2</td>\n",
       "    </tr>\n",
       "    <tr>\n",
       "      <th>3</th>\n",
       "      <td>141526</td>\n",
       "      <td>Jaket</td>\n",
       "      <td>2017-04-28 06:52:52.546999808</td>\n",
       "      <td>2019-01-16 13:00:03.911000064</td>\n",
       "      <td>722632</td>\n",
       "      <td>27</td>\n",
       "      <td>0</td>\n",
       "      <td>2017</td>\n",
       "      <td>2019</td>\n",
       "      <td>5. &gt;10</td>\n",
       "      <td>3. &gt;500.000 - 750.000</td>\n",
       "      <td>2</td>\n",
       "    </tr>\n",
       "    <tr>\n",
       "      <th>4</th>\n",
       "      <td>37545</td>\n",
       "      <td>Sepatu</td>\n",
       "      <td>2015-04-16 10:01:38.530999808</td>\n",
       "      <td>2018-11-22 12:53:41.529999872</td>\n",
       "      <td>1775036</td>\n",
       "      <td>25</td>\n",
       "      <td>0</td>\n",
       "      <td>2015</td>\n",
       "      <td>2018</td>\n",
       "      <td>5. &gt;10</td>\n",
       "      <td>5. &gt;1.000.000 - 2.500.000</td>\n",
       "      <td>3</td>\n",
       "    </tr>\n",
       "  </tbody>\n",
       "</table>\n",
       "</div>"
      ],
      "text/plain": [
       "   Customer_ID Product             First_Transaction  \\\n",
       "0        29531   Jaket 2016-06-19 02:44:34.396000000   \n",
       "1        29531  Sepatu 2014-07-23 01:02:11.493999872   \n",
       "2       141526     Tas 2017-04-28 03:12:27.000000000   \n",
       "3       141526   Jaket 2017-04-28 06:52:52.546999808   \n",
       "4        37545  Sepatu 2015-04-16 10:01:38.530999808   \n",
       "\n",
       "               Last_Transaction  Average_Transaction_Amount  \\\n",
       "0 2018-10-05 05:48:02.608000000                     1467681   \n",
       "1 2018-12-25 11:02:41.269999872                     1269337   \n",
       "2 2019-01-24 09:40:02.000000000                      310915   \n",
       "3 2019-01-16 13:00:03.911000064                      722632   \n",
       "4 2018-11-22 12:53:41.529999872                     1775036   \n",
       "\n",
       "   Count_Transaction  is_churn  Year_First_Transaction  Year_Last_Transaction  \\\n",
       "0                 22         0                    2016                   2018   \n",
       "1                 41         0                    2014                   2018   \n",
       "2                 30         0                    2017                   2019   \n",
       "3                 27         0                    2017                   2019   \n",
       "4                 25         0                    2015                   2018   \n",
       "\n",
       "  Count_Transaction_Group Average_Transaction_Amount_Group  Year_diff  \n",
       "0                  5. >10        5. >1.000.000 - 2.500.000          2  \n",
       "1                  5. >10        5. >1.000.000 - 2.500.000          4  \n",
       "2                  5. >10            2. >250.000 - 500.000          2  \n",
       "3                  5. >10            3. >500.000 - 750.000          2  \n",
       "4                  5. >10        5. >1.000.000 - 2.500.000          3  "
      ]
     },
     "execution_count": 38,
     "metadata": {},
     "output_type": "execute_result"
    }
   ],
   "source": [
    "# buat satu tambahan kolom yang merupakan selisih antara tahun pertama transaksi dan tahun terakhir transaksi\n",
    "# buat sebagai Year_diff\n",
    "df2['Year_diff'] = df2['Year_Last_Transaction'] - df2['Year_First_Transaction']\n",
    "df2.head()"
   ]
  },
  {
   "cell_type": "code",
   "execution_count": 39,
   "metadata": {},
   "outputs": [
    {
     "name": "stderr",
     "output_type": "stream",
     "text": [
      "C:\\Users\\amati\\AppData\\Local\\Temp\\ipykernel_19624\\1290310716.py:3: FutureWarning: The default value of numeric_only in DataFrame.corr is deprecated. In a future version, it will default to False. Select only valid columns or specify the value of numeric_only to silence this warning.\n",
      "  sns.heatmap(df2.corr(), annot = True, cmap = 'coolwarm')\n"
     ]
    },
    {
     "data": {
      "text/plain": [
       "<Axes: >"
      ]
     },
     "execution_count": 39,
     "metadata": {},
     "output_type": "execute_result"
    },
    {
     "data": {
      "image/png": "[encoded data removed]",
      "text/plain": [
       "<Figure size 640x480 with 2 Axes>"
      ]
     },
     "metadata": {},
     "output_type": "display_data"
    }
   ],
   "source": [
    "# beberapa kolom tidak terpakai sehingga bisa dibuang\n",
    "# sebelumnya cek terlebih dahulu korelasi antar datanya\n",
    "sns.heatmap(df2.corr(), annot = True, cmap = 'coolwarm')"
   ]
  },
  {
   "cell_type": "code",
   "execution_count": 40,
   "metadata": {},
   "outputs": [
    {
     "data": {
      "text/html": [
       "<div>\n",
       "<style scoped>\n",
       "    .dataframe tbody tr th:only-of-type {\n",
       "        vertical-align: middle;\n",
       "    }\n",
       "\n",
       "    .dataframe tbody tr th {\n",
       "        vertical-align: top;\n",
       "    }\n",
       "\n",
       "    .dataframe thead th {\n",
       "        text-align: right;\n",
       "    }\n",
       "</style>\n",
       "<table border=\"1\" class=\"dataframe\">\n",
       "  <thead>\n",
       "    <tr style=\"text-align: right;\">\n",
       "      <th></th>\n",
       "      <th>Average_Transaction_Amount</th>\n",
       "      <th>Count_Transaction</th>\n",
       "      <th>Year_diff</th>\n",
       "      <th>is_churn</th>\n",
       "    </tr>\n",
       "  </thead>\n",
       "  <tbody>\n",
       "    <tr>\n",
       "      <th>39636</th>\n",
       "      <td>793263</td>\n",
       "      <td>5</td>\n",
       "      <td>0</td>\n",
       "      <td>1</td>\n",
       "    </tr>\n",
       "    <tr>\n",
       "      <th>56277</th>\n",
       "      <td>1141613</td>\n",
       "      <td>1</td>\n",
       "      <td>0</td>\n",
       "      <td>1</td>\n",
       "    </tr>\n",
       "    <tr>\n",
       "      <th>52850</th>\n",
       "      <td>3053913</td>\n",
       "      <td>1</td>\n",
       "      <td>0</td>\n",
       "      <td>1</td>\n",
       "    </tr>\n",
       "    <tr>\n",
       "      <th>50682</th>\n",
       "      <td>1588890</td>\n",
       "      <td>1</td>\n",
       "      <td>0</td>\n",
       "      <td>1</td>\n",
       "    </tr>\n",
       "    <tr>\n",
       "      <th>85958</th>\n",
       "      <td>2093919</td>\n",
       "      <td>4</td>\n",
       "      <td>1</td>\n",
       "      <td>1</td>\n",
       "    </tr>\n",
       "    <tr>\n",
       "      <th>61735</th>\n",
       "      <td>539632</td>\n",
       "      <td>1</td>\n",
       "      <td>0</td>\n",
       "      <td>1</td>\n",
       "    </tr>\n",
       "    <tr>\n",
       "      <th>97663</th>\n",
       "      <td>1323871</td>\n",
       "      <td>1</td>\n",
       "      <td>0</td>\n",
       "      <td>1</td>\n",
       "    </tr>\n",
       "    <tr>\n",
       "      <th>82533</th>\n",
       "      <td>214391</td>\n",
       "      <td>2</td>\n",
       "      <td>1</td>\n",
       "      <td>0</td>\n",
       "    </tr>\n",
       "    <tr>\n",
       "      <th>71088</th>\n",
       "      <td>136108</td>\n",
       "      <td>1</td>\n",
       "      <td>0</td>\n",
       "      <td>1</td>\n",
       "    </tr>\n",
       "    <tr>\n",
       "      <th>77890</th>\n",
       "      <td>2371631</td>\n",
       "      <td>1</td>\n",
       "      <td>0</td>\n",
       "      <td>0</td>\n",
       "    </tr>\n",
       "  </tbody>\n",
       "</table>\n",
       "</div>"
      ],
      "text/plain": [
       "       Average_Transaction_Amount  Count_Transaction  Year_diff  is_churn\n",
       "39636                      793263                  5          0         1\n",
       "56277                     1141613                  1          0         1\n",
       "52850                     3053913                  1          0         1\n",
       "50682                     1588890                  1          0         1\n",
       "85958                     2093919                  4          1         1\n",
       "61735                      539632                  1          0         1\n",
       "97663                     1323871                  1          0         1\n",
       "82533                      214391                  2          1         0\n",
       "71088                      136108                  1          0         1\n",
       "77890                     2371631                  1          0         0"
      ]
     },
     "execution_count": 40,
     "metadata": {},
     "output_type": "execute_result"
    }
   ],
   "source": [
    "# fokusnya adalah ingin memprediksi customer churn atau tidak berarti kolom is_churn digunakan sebagai label/target\n",
    "# untuk kolom feature yang diseleksi hanya 'Average_Transaction_Amount','Count_Transaction','Year_diff'\n",
    "# kolom 'Customer_ID', 'Product', tidak diperlukan karena terlalu bervariatif dan tidak terlalu berkorelasi\n",
    "# 'First_Transaction', 'Last_Transaction','Year_First_Transaction', 'Year_Last_Transaction' sudah diwakili oleh Year_Diff\n",
    "# 'Count_Transaction_Group', 'Average_Transaction_Amount_Group' juga tidak diperlukan karena sudah diwakili oleh 'Average_Transaction_Amount'dan'Count_Transaction'\n",
    "df2 = df2[['Average_Transaction_Amount','Count_Transaction','Year_diff','is_churn']]\n",
    "df2.sample(10)"
   ]
  },
  {
   "cell_type": "code",
   "execution_count": 41,
   "metadata": {
    "colab": {
     "base_uri": "https://localhost:8080/",
     "height": 424
    },
    "id": "xecbz3TGQqXJ",
    "outputId": "6f9a1fbb-f2e9-411f-cca7-793551d41ace"
   },
   "outputs": [
    {
     "data": {
      "text/html": [
       "<div>\n",
       "<style scoped>\n",
       "    .dataframe tbody tr th:only-of-type {\n",
       "        vertical-align: middle;\n",
       "    }\n",
       "\n",
       "    .dataframe tbody tr th {\n",
       "        vertical-align: top;\n",
       "    }\n",
       "\n",
       "    .dataframe thead th {\n",
       "        text-align: right;\n",
       "    }\n",
       "</style>\n",
       "<table border=\"1\" class=\"dataframe\">\n",
       "  <thead>\n",
       "    <tr style=\"text-align: right;\">\n",
       "      <th></th>\n",
       "      <th>Average_Transaction_Amount</th>\n",
       "      <th>Count_Transaction</th>\n",
       "      <th>Year_diff</th>\n",
       "    </tr>\n",
       "  </thead>\n",
       "  <tbody>\n",
       "    <tr>\n",
       "      <th>0</th>\n",
       "      <td>1467681</td>\n",
       "      <td>22</td>\n",
       "      <td>2</td>\n",
       "    </tr>\n",
       "    <tr>\n",
       "      <th>1</th>\n",
       "      <td>1269337</td>\n",
       "      <td>41</td>\n",
       "      <td>4</td>\n",
       "    </tr>\n",
       "    <tr>\n",
       "      <th>2</th>\n",
       "      <td>310915</td>\n",
       "      <td>30</td>\n",
       "      <td>2</td>\n",
       "    </tr>\n",
       "    <tr>\n",
       "      <th>3</th>\n",
       "      <td>722632</td>\n",
       "      <td>27</td>\n",
       "      <td>2</td>\n",
       "    </tr>\n",
       "    <tr>\n",
       "      <th>4</th>\n",
       "      <td>1775036</td>\n",
       "      <td>25</td>\n",
       "      <td>3</td>\n",
       "    </tr>\n",
       "    <tr>\n",
       "      <th>...</th>\n",
       "      <td>...</td>\n",
       "      <td>...</td>\n",
       "      <td>...</td>\n",
       "    </tr>\n",
       "    <tr>\n",
       "      <th>99995</th>\n",
       "      <td>298662</td>\n",
       "      <td>1</td>\n",
       "      <td>0</td>\n",
       "    </tr>\n",
       "    <tr>\n",
       "      <th>99996</th>\n",
       "      <td>349556</td>\n",
       "      <td>1</td>\n",
       "      <td>0</td>\n",
       "    </tr>\n",
       "    <tr>\n",
       "      <th>99997</th>\n",
       "      <td>598013</td>\n",
       "      <td>1</td>\n",
       "      <td>0</td>\n",
       "    </tr>\n",
       "    <tr>\n",
       "      <th>99998</th>\n",
       "      <td>1208591</td>\n",
       "      <td>1</td>\n",
       "      <td>0</td>\n",
       "    </tr>\n",
       "    <tr>\n",
       "      <th>99999</th>\n",
       "      <td>486710</td>\n",
       "      <td>1</td>\n",
       "      <td>0</td>\n",
       "    </tr>\n",
       "  </tbody>\n",
       "</table>\n",
       "<p>100000 rows × 3 columns</p>\n",
       "</div>"
      ],
      "text/plain": [
       "       Average_Transaction_Amount  Count_Transaction  Year_diff\n",
       "0                         1467681                 22          2\n",
       "1                         1269337                 41          4\n",
       "2                          310915                 30          2\n",
       "3                          722632                 27          2\n",
       "4                         1775036                 25          3\n",
       "...                           ...                ...        ...\n",
       "99995                      298662                  1          0\n",
       "99996                      349556                  1          0\n",
       "99997                      598013                  1          0\n",
       "99998                     1208591                  1          0\n",
       "99999                      486710                  1          0\n",
       "\n",
       "[100000 rows x 3 columns]"
      ]
     },
     "execution_count": 41,
     "metadata": {},
     "output_type": "execute_result"
    }
   ],
   "source": [
    "# memisahkan fitur dan label/target\n",
    "# gunakan fitur yang telah di dipilih sebelumnya sebelumnya\n",
    "X = df2.drop(columns=['is_churn'])\n",
    "X"
   ]
  },
  {
   "cell_type": "code",
   "execution_count": 42,
   "metadata": {
    "colab": {
     "base_uri": "https://localhost:8080/"
    },
    "id": "omom-sHjQ9q4",
    "outputId": "bf1c7b53-c713-4339-f00e-d1b8a1f5a3c8"
   },
   "outputs": [
    {
     "data": {
      "text/plain": [
       "0        0\n",
       "1        0\n",
       "2        0\n",
       "3        0\n",
       "4        0\n",
       "        ..\n",
       "99995    1\n",
       "99996    1\n",
       "99997    1\n",
       "99998    1\n",
       "99999    0\n",
       "Name: is_churn, Length: 100000, dtype: int32"
      ]
     },
     "execution_count": 42,
     "metadata": {},
     "output_type": "execute_result"
    }
   ],
   "source": [
    "# pilih is_churn sebagai data label/target\n",
    "y = df2['is_churn']\n",
    "y"
   ]
  },
  {
   "cell_type": "code",
   "execution_count": 43,
   "metadata": {
    "id": "qEhStYq4R8E-"
   },
   "outputs": [],
   "source": [
    "# melakukan splitting data dengan test size 20%\n",
    "from sklearn.model_selection import train_test_split\n",
    "X_train, X_test, y_train, y_test = train_test_split(X,y, test_size = 0.2, random_state= 0)"
   ]
  },
  {
   "cell_type": "code",
   "execution_count": 44,
   "metadata": {
    "colab": {
     "base_uri": "https://localhost:8080/"
    },
    "id": "HmKq0lHvUfPR",
    "outputId": "36a8f3ae-6aab-4c83-fede-8fa47a9289ba"
   },
   "outputs": [
    {
     "name": "stdout",
     "output_type": "stream",
     "text": [
      "jumlah data baris sebelum dibagi  (100000, 3)\n",
      "jumlah data baris sebelum dibagi  (100000,)\n",
      "jumlah data baris untuk X_train  (80000, 3)\n",
      "jumlah data baris untuk X_test  (20000, 3)\n",
      "jumlah data baris untuk y_train  (80000,)\n",
      "jumlah data baris untuk y_test  (20000,)\n"
     ]
    }
   ],
   "source": [
    "print('jumlah data baris sebelum dibagi ', X.shape)\n",
    "print('jumlah data baris sebelum dibagi ', y.shape)\n",
    "print('jumlah data baris untuk X_train ', X_train.shape)\n",
    "print('jumlah data baris untuk X_test ', X_test.shape)\n",
    "print('jumlah data baris untuk y_train ', y_train.shape)\n",
    "print('jumlah data baris untuk y_test ', y_test.shape)"
   ]
  },
  {
   "cell_type": "code",
   "execution_count": 45,
   "metadata": {},
   "outputs": [],
   "source": [
    "# karena data pada fitur tidak merata maka perlu dilakukan normalisasi\n",
    "from sklearn.preprocessing import MinMaxScaler\n",
    "X_train = MinMaxScaler().fit_transform(X_train)\n",
    "X_test = MinMaxScaler().fit_transform(X_test)"
   ]
  },
  {
   "cell_type": "code",
   "execution_count": 46,
   "metadata": {},
   "outputs": [
    {
     "name": "stdout",
     "output_type": "stream",
     "text": [
      "[[0.01019071 0.0057128  0.33333333]\n",
      " [0.01013765 0.         0.        ]\n",
      " [0.00397311 0.         0.        ]\n",
      " ...\n",
      " [0.05894262 0.         0.        ]\n",
      " [0.02048808 0.00103869 0.        ]\n",
      " [0.04749851 0.         0.        ]]\n",
      "[[4.45420617e-03 8.17131586e-03 3.33333333e-01]\n",
      " [1.39564133e-02 1.12707805e-03 6.66666667e-01]\n",
      " [2.85081674e-02 0.00000000e+00 0.00000000e+00]\n",
      " ...\n",
      " [1.53832821e-02 0.00000000e+00 0.00000000e+00]\n",
      " [1.56312442e-01 2.81769513e-04 0.00000000e+00]\n",
      " [1.51194040e-02 0.00000000e+00 0.00000000e+00]]\n"
     ]
    }
   ],
   "source": [
    "print(X_train)\n",
    "print(X_test)"
   ]
  },
  {
   "cell_type": "code",
   "execution_count": 47,
   "metadata": {
    "colab": {
     "base_uri": "https://localhost:8080/"
    },
    "id": "4hmQEs2qVhkI",
    "outputId": "15b7d921-e172-4319-d9f0-523bf7bed332"
   },
   "outputs": [
    {
     "data": {
      "text/plain": [
       "array([0, 0, 1, ..., 1, 1, 1])"
      ]
     },
     "execution_count": 47,
     "metadata": {},
     "output_type": "execute_result"
    }
   ],
   "source": [
    "from sklearn.linear_model import LogisticRegression\n",
    "\n",
    "# Inisiasi model logreg\n",
    "logreg = LogisticRegression().fit(X_train, y_train)\n",
    "y_pred = logreg.predict(X_test)\n",
    "y_pred"
   ]
  },
  {
   "cell_type": "code",
   "execution_count": 48,
   "metadata": {
    "colab": {
     "base_uri": "https://localhost:8080/"
    },
    "id": "JJ9txmA1WST_",
    "outputId": "ef367cc4-c1ad-4c7f-d8dc-31095163ed7c"
   },
   "outputs": [
    {
     "name": "stdout",
     "output_type": "stream",
     "text": [
      "[[ 2493  4170]\n",
      " [  761 12576]]\n",
      "Accuracy : 0.75345\n",
      "Precision: 0.75345\n",
      "Recall   : 0.75345\n",
      "f1_score   : 0.7534500000000001\n"
     ]
    }
   ],
   "source": [
    "from sklearn.metrics import accuracy_score, precision_score, recall_score, f1_score,confusion_matrix\n",
    "\n",
    "#Menghitung Accuracy, Precision, dan Recall\n",
    "cnf = confusion_matrix(y_test,y_pred)\n",
    "print(cnf)\n",
    "print('Accuracy :', accuracy_score(y_test, y_pred))\n",
    "print('Precision:', precision_score(y_test, y_pred, average='micro'))\n",
    "print('Recall   :',recall_score(y_test, y_pred, average='micro'))\n",
    "print('f1_score   :',f1_score(y_test, y_pred, average='micro'))"
   ]
  },
  {
   "cell_type": "code",
   "execution_count": 49,
   "metadata": {
    "colab": {
     "base_uri": "https://localhost:8080/",
     "height": 435
    },
    "id": "aVL_wR7SV5yi",
    "outputId": "f1a8f359-e577-499b-f3a7-09248cefcddc"
   },
   "outputs": [
    {
     "data": {
      "image/png": "[encoded data removed]",
      "text/plain": [
       "<Figure size 640x480 with 1 Axes>"
      ]
     },
     "metadata": {},
     "output_type": "display_data"
    }
   ],
   "source": [
    "# name  of classes\n",
    "class_names = [0, 1]\n",
    "fig, ax = plt.subplots()\n",
    "tick_marks = np.arange(len(class_names))\n",
    "plt.xticks(tick_marks, class_names)\n",
    "plt.yticks(tick_marks, class_names);\n"
   ]
  },
  {
   "cell_type": "code",
   "execution_count": 50,
   "metadata": {
    "colab": {
     "base_uri": "https://localhost:8080/",
     "height": 484
    },
    "id": "BCX4DRFTV9Sv",
    "outputId": "7510faca-d025-4cf8-dcd8-51a1ae65042f"
   },
   "outputs": [
    {
     "data": {
      "image/png": "[encoded data removed]",
      "text/plain": [
       "<Figure size 640x480 with 2 Axes>"
      ]
     },
     "metadata": {},
     "output_type": "display_data"
    }
   ],
   "source": [
    "# create heatmap\n",
    "sns.heatmap(pd.DataFrame(cnf), annot=True, cmap='YlGnBu', fmt='g')\n",
    "ax.xaxis.set_label_position('top')\n",
    "plt.title('Confusion matrix(Logistic Regression)', y=1.1)\n",
    "plt.ylabel('Actual')\n",
    "plt.xlabel('Predicted')\n",
    "plt.tight_layout()\n",
    "plt.show()"
   ]
  },
  {
   "cell_type": "markdown",
   "metadata": {
    "id": "MTpxLtUGKB7w"
   },
   "source": [
    "## Lakukan hal yang sama untuk beberpaa model ML\n",
    "# DecisionTree"
   ]
  },
  {
   "cell_type": "code",
   "execution_count": 51,
   "metadata": {
    "id": "8oFFmZoUJ_i9"
   },
   "outputs": [],
   "source": [
    "from sklearn.tree import DecisionTreeClassifier\n",
    "tree = DecisionTreeClassifier().fit(X_train,y_train)\n",
    "y_pred = tree.predict(X_test)"
   ]
  },
  {
   "cell_type": "code",
   "execution_count": 52,
   "metadata": {
    "colab": {
     "base_uri": "https://localhost:8080/"
    },
    "id": "5ukBTTZ1KYv0",
    "outputId": "2895e996-a769-45f8-9696-0c3a4d609398"
   },
   "outputs": [
    {
     "name": "stdout",
     "output_type": "stream",
     "text": [
      "[[3240 3423]\n",
      " [3624 9713]]\n",
      "Accuracy : 0.64765\n",
      "Precision: 0.64765\n",
      "Recall   : 0.64765\n",
      "f1_score   : 0.64765\n"
     ]
    }
   ],
   "source": [
    "cnf = confusion_matrix(y_test,y_pred)\n",
    "print(cnf)\n",
    "print('Accuracy :', accuracy_score(y_test, y_pred))\n",
    "print('Precision:', precision_score(y_test, y_pred, average='micro'))\n",
    "print('Recall   :',recall_score(y_test, y_pred, average='micro'))\n",
    "print('f1_score   :',f1_score(y_test, y_pred, average='micro'))"
   ]
  },
  {
   "cell_type": "code",
   "execution_count": 53,
   "metadata": {
    "colab": {
     "base_uri": "https://localhost:8080/",
     "height": 484
    },
    "id": "q0aSnuTuKody",
    "outputId": "8d50ea1b-4185-4794-c557-4ed07317216b"
   },
   "outputs": [
    {
     "data": {
      "image/png": "[encoded data removed]",
      "text/plain": [
       "<Figure size 640x480 with 2 Axes>"
      ]
     },
     "metadata": {},
     "output_type": "display_data"
    }
   ],
   "source": [
    "# create heatmap\n",
    "sns.heatmap(pd.DataFrame(cnf), annot=True, cmap='YlGnBu', fmt='g')\n",
    "ax.xaxis.set_label_position('top')\n",
    "plt.title('Confusion matrix(Decision Tree Classifier)', y=1.1)\n",
    "plt.ylabel('Actual')\n",
    "plt.xlabel('Predicted')\n",
    "plt.tight_layout()\n",
    "plt.show()"
   ]
  },
  {
   "cell_type": "markdown",
   "metadata": {
    "id": "4nc3d251MG6g"
   },
   "source": [
    "# RandomForest"
   ]
  },
  {
   "cell_type": "code",
   "execution_count": 54,
   "metadata": {
    "id": "9OCnFkfkK3YN"
   },
   "outputs": [],
   "source": [
    "from sklearn.ensemble import RandomForestClassifier\n",
    "forest = RandomForestClassifier().fit(X_train,y_train)\n",
    "y_pred = forest.predict(X_test)"
   ]
  },
  {
   "cell_type": "code",
   "execution_count": 55,
   "metadata": {
    "colab": {
     "base_uri": "https://localhost:8080/"
    },
    "id": "Jt1YrwBKMgwj",
    "outputId": "5d85ded6-fcaf-4f43-a625-2d4225f6554c"
   },
   "outputs": [
    {
     "name": "stdout",
     "output_type": "stream",
     "text": [
      "[[3398 3265]\n",
      " [3491 9846]]\n",
      "Accuracy : 0.6622\n",
      "Precision: 0.6622\n",
      "Recall   : 0.6622\n",
      "f1_score   : 0.6622\n"
     ]
    }
   ],
   "source": [
    "cnf = confusion_matrix(y_test,y_pred)\n",
    "print(cnf)\n",
    "print('Accuracy :', accuracy_score(y_test, y_pred))\n",
    "print('Precision:', precision_score(y_test, y_pred, average='micro'))\n",
    "print('Recall   :',recall_score(y_test, y_pred, average='micro'))\n",
    "print('f1_score   :',f1_score(y_test, y_pred, average='micro'))"
   ]
  },
  {
   "cell_type": "code",
   "execution_count": 56,
   "metadata": {
    "colab": {
     "base_uri": "https://localhost:8080/",
     "height": 484
    },
    "id": "9Gl8xds8P1PD",
    "outputId": "ebf60e92-02c2-4581-f341-90280adc7a91"
   },
   "outputs": [
    {
     "data": {
      "image/png": "[encoded data removed]",
      "text/plain": [
       "<Figure size 640x480 with 2 Axes>"
      ]
     },
     "metadata": {},
     "output_type": "display_data"
    }
   ],
   "source": [
    "# create heatmap\n",
    "sns.heatmap(pd.DataFrame(cnf), annot=True, cmap='YlGnBu', fmt='g')\n",
    "ax.xaxis.set_label_position('top')\n",
    "plt.title('Confusion matrix(Random Forest Classifier)', y=1.1)\n",
    "plt.ylabel('Actual')\n",
    "plt.xlabel('Predicted')\n",
    "plt.tight_layout()\n",
    "plt.show()"
   ]
  },
  {
   "cell_type": "markdown",
   "metadata": {
    "id": "n3TC5tghRcc6"
   },
   "source": [
    "# KNN\n"
   ]
  },
  {
   "cell_type": "code",
   "execution_count": 57,
   "metadata": {
    "id": "A9juMn_hPz3j"
   },
   "outputs": [],
   "source": [
    "from sklearn.neighbors import KNeighborsClassifier\n",
    "KNN = KNeighborsClassifier().fit(X_train, y_train)\n",
    "y_pred = KNN.predict(X_test)"
   ]
  },
  {
   "cell_type": "code",
   "execution_count": 58,
   "metadata": {
    "colab": {
     "base_uri": "https://localhost:8080/"
    },
    "id": "z0umZBcNRwfw",
    "outputId": "7574d41e-5450-45f3-a33d-cc781bff16d1"
   },
   "outputs": [
    {
     "name": "stdout",
     "output_type": "stream",
     "text": [
      "[[ 3045  3618]\n",
      " [ 1800 11537]]\n",
      "Accuracy : 0.7291\n",
      "Precision: 0.7291\n",
      "Recall   : 0.7291\n",
      "f1_score   : 0.7291\n"
     ]
    }
   ],
   "source": [
    "cnf = confusion_matrix(y_test,y_pred)\n",
    "print(cnf)\n",
    "print('Accuracy :', accuracy_score(y_test, y_pred))\n",
    "print('Precision:', precision_score(y_test, y_pred, average='micro'))\n",
    "print('Recall   :',recall_score(y_test, y_pred, average='micro'))\n",
    "print('f1_score   :',f1_score(y_test, y_pred, average='micro'))"
   ]
  },
  {
   "cell_type": "code",
   "execution_count": 59,
   "metadata": {
    "colab": {
     "base_uri": "https://localhost:8080/",
     "height": 484
    },
    "id": "jdWk_mw_RzqY",
    "outputId": "15d7f67f-234b-40f7-f6e4-9432a053ba2f"
   },
   "outputs": [
    {
     "data": {
      "image/png": "[encoded data removed]",
      "text/plain": [
       "<Figure size 640x480 with 2 Axes>"
      ]
     },
     "metadata": {},
     "output_type": "display_data"
    }
   ],
   "source": [
    "# create heatmap\n",
    "sns.heatmap(pd.DataFrame(cnf), annot=True, cmap='YlGnBu', fmt='g')\n",
    "ax.xaxis.set_label_position('top')\n",
    "plt.title('Confusion matrix(K-Nearest Neighbor Classifier)', y=1.1)\n",
    "plt.ylabel('Actual')\n",
    "plt.xlabel('Predicted')\n",
    "plt.tight_layout()\n",
    "plt.show()"
   ]
  },
  {
   "cell_type": "markdown",
   "metadata": {
    "id": "96OjDzt-R4sg"
   },
   "source": [
    "# Naive Bayes"
   ]
  },
  {
   "cell_type": "code",
   "execution_count": 60,
   "metadata": {
    "id": "oTXRLvljR0NZ"
   },
   "outputs": [],
   "source": [
    "from sklearn.naive_bayes import GaussianNB\n",
    "naive = GaussianNB().fit(X_train,y_train)\n",
    "y_pred = naive.predict(X_test)"
   ]
  },
  {
   "cell_type": "code",
   "execution_count": 61,
   "metadata": {
    "colab": {
     "base_uri": "https://localhost:8080/"
    },
    "id": "0BO2afnhSKJa",
    "outputId": "1e9b1024-1d0d-4747-865a-d2264e1ae00f"
   },
   "outputs": [
    {
     "name": "stdout",
     "output_type": "stream",
     "text": [
      "[[ 2782  3881]\n",
      " [  898 12439]]\n",
      "Accuracy : 0.76105\n",
      "Precision: 0.76105\n",
      "Recall   : 0.76105\n",
      "f1_score   : 0.76105\n"
     ]
    }
   ],
   "source": [
    "cnf = confusion_matrix(y_test,y_pred)\n",
    "print(cnf)\n",
    "print('Accuracy :', accuracy_score(y_test, y_pred))\n",
    "print('Precision:', precision_score(y_test, y_pred, average='micro'))\n",
    "print('Recall   :',recall_score(y_test, y_pred, average='micro'))\n",
    "print('f1_score   :',f1_score(y_test, y_pred, average='micro'))"
   ]
  },
  {
   "cell_type": "code",
   "execution_count": 62,
   "metadata": {
    "colab": {
     "base_uri": "https://localhost:8080/",
     "height": 484
    },
    "id": "y6HRp_4ISLfQ",
    "outputId": "944e1114-6704-4e80-b45b-17cac53f6732"
   },
   "outputs": [
    {
     "data": {
      "image/png": "[encoded data removed]",
      "text/plain": [
       "<Figure size 640x480 with 2 Axes>"
      ]
     },
     "metadata": {},
     "output_type": "display_data"
    }
   ],
   "source": [
    "# create heatmap\n",
    "sns.heatmap(pd.DataFrame(cnf), annot=True, cmap='YlGnBu', fmt='g')\n",
    "ax.xaxis.set_label_position('top')\n",
    "plt.title('Confusion matrix(Naive Bayes)', y=1.1)\n",
    "plt.ylabel('Actual')\n",
    "plt.xlabel('Predicted')\n",
    "plt.tight_layout()\n",
    "plt.show()"
   ]
  },
  {
   "cell_type": "markdown",
   "metadata": {
    "id": "mStpfUOMSZoA"
   },
   "source": [
    "# Gradient Boosting"
   ]
  },
  {
   "cell_type": "code",
   "execution_count": 63,
   "metadata": {
    "id": "80gW4JPXSbZH"
   },
   "outputs": [],
   "source": [
    "from sklearn.ensemble import GradientBoostingClassifier\n",
    "GBC = GradientBoostingClassifier().fit(X_train,y_train)\n",
    "y_pred = GBC.predict(X_test)"
   ]
  },
  {
   "cell_type": "code",
   "execution_count": 64,
   "metadata": {
    "colab": {
     "base_uri": "https://localhost:8080/"
    },
    "id": "Rdv13rmeSn8R",
    "outputId": "280e46f1-48fd-4710-f623-bd4cf95ec9c5"
   },
   "outputs": [
    {
     "name": "stdout",
     "output_type": "stream",
     "text": [
      "[[ 3010  3653]\n",
      " [  919 12418]]\n",
      "Accuracy : 0.7714\n",
      "Precision: 0.7714\n",
      "Recall   : 0.7714\n",
      "f1_score   : 0.7714\n"
     ]
    }
   ],
   "source": [
    "cnf = confusion_matrix(y_test,y_pred)\n",
    "print(cnf)\n",
    "print('Accuracy :', accuracy_score(y_test, y_pred))\n",
    "print('Precision:', precision_score(y_test, y_pred, average='micro'))\n",
    "print('Recall   :',recall_score(y_test, y_pred, average='micro'))\n",
    "print('f1_score   :',f1_score(y_test, y_pred, average='micro'))"
   ]
  },
  {
   "cell_type": "code",
   "execution_count": 65,
   "metadata": {
    "colab": {
     "base_uri": "https://localhost:8080/",
     "height": 484
    },
    "id": "KYrKVwh2SoSg",
    "outputId": "c38c1902-59cd-45cb-cc8e-4b4dd03f42a0"
   },
   "outputs": [
    {
     "data": {
      "image/png": "[encoded data removed]",
      "text/plain": [
       "<Figure size 640x480 with 2 Axes>"
      ]
     },
     "metadata": {},
     "output_type": "display_data"
    }
   ],
   "source": [
    "# create heatmap\n",
    "sns.heatmap(pd.DataFrame(cnf), annot=True, cmap='YlGnBu', fmt='g')\n",
    "ax.xaxis.set_label_position('top')\n",
    "plt.title('Confusion matrix(Gradient Boosting Classifier)', y=1.1)\n",
    "plt.ylabel('Actual')\n",
    "plt.xlabel('Predicted')\n",
    "plt.tight_layout()\n",
    "plt.show()"
   ]
  },
  {
   "cell_type": "markdown",
   "metadata": {
    "id": "KG_V8X0ITNg6"
   },
   "source": [
    "# NeuralNetwork classifier"
   ]
  },
  {
   "cell_type": "code",
   "execution_count": 66,
   "metadata": {
    "id": "3QQAcWhrTTFd"
   },
   "outputs": [],
   "source": [
    "from sklearn.neural_network import MLPClassifier\n",
    "neural = MLPClassifier().fit(X_train,y_train)\n",
    "y_pred = neural.predict(X_test)"
   ]
  },
  {
   "cell_type": "code",
   "execution_count": 67,
   "metadata": {
    "colab": {
     "base_uri": "https://localhost:8080/"
    },
    "id": "lE4VMaQMThAE",
    "outputId": "853508ec-d9b6-48e5-9b28-28f0bc13ae66"
   },
   "outputs": [
    {
     "name": "stdout",
     "output_type": "stream",
     "text": [
      "[[ 3025  3638]\n",
      " [  948 12389]]\n",
      "Accuracy : 0.7707\n",
      "Precision: 0.7707\n",
      "Recall   : 0.7707\n",
      "f1_score   : 0.7706999999999999\n"
     ]
    }
   ],
   "source": [
    "cnf = confusion_matrix(y_test,y_pred)\n",
    "print(cnf)\n",
    "print('Accuracy :', accuracy_score(y_test, y_pred))\n",
    "print('Precision:', precision_score(y_test, y_pred, average='micro'))\n",
    "print('Recall   :',recall_score(y_test, y_pred, average='micro'))\n",
    "print('f1_score   :',f1_score(y_test, y_pred, average='micro'))"
   ]
  },
  {
   "cell_type": "code",
   "execution_count": 68,
   "metadata": {
    "colab": {
     "base_uri": "https://localhost:8080/",
     "height": 484
    },
    "id": "pb9_v7xsTkt4",
    "outputId": "3fae9329-6dfd-4b12-ba74-5271f895a750"
   },
   "outputs": [
    {
     "data": {
      "image/png": "[encoded data removed]",
      "text/plain": [
       "<Figure size 640x480 with 2 Axes>"
      ]
     },
     "metadata": {},
     "output_type": "display_data"
    }
   ],
   "source": [
    "# create heatmap\n",
    "sns.heatmap(pd.DataFrame(cnf), annot=True, cmap='YlGnBu', fmt='g')\n",
    "ax.xaxis.set_label_position('top')\n",
    "plt.title('Confusion matrix(Neural Network)', y=1.1)\n",
    "plt.ylabel('Actual')\n",
    "plt.xlabel('Predicted')\n",
    "plt.tight_layout()\n",
    "plt.show()"
   ]
  },
  {
   "cell_type": "markdown",
   "metadata": {
    "id": "Jga-3lZFTo6A"
   },
   "source": [
    "# Adaboost classifier"
   ]
  },
  {
   "cell_type": "code",
   "execution_count": 69,
   "metadata": {
    "id": "8GA2BI51Tobn"
   },
   "outputs": [],
   "source": [
    "from sklearn.ensemble import AdaBoostClassifier\n",
    "ABC = AdaBoostClassifier().fit(X_train,y_train)\n",
    "y_pred = ABC.predict(X_test)"
   ]
  },
  {
   "cell_type": "code",
   "execution_count": 70,
   "metadata": {
    "colab": {
     "base_uri": "https://localhost:8080/"
    },
    "id": "oJyqXzsMUAjd",
    "outputId": "6518278a-f173-42d4-fbb8-a5bb8a9f46ea"
   },
   "outputs": [
    {
     "name": "stdout",
     "output_type": "stream",
     "text": [
      "[[ 3051  3612]\n",
      " [  983 12354]]\n",
      "Accuracy : 0.77025\n",
      "Precision: 0.77025\n",
      "Recall   : 0.77025\n",
      "f1_score   : 0.77025\n"
     ]
    }
   ],
   "source": [
    "cnf = confusion_matrix(y_test,y_pred)\n",
    "print(cnf)\n",
    "print('Accuracy :', accuracy_score(y_test, y_pred))\n",
    "print('Precision:', precision_score(y_test, y_pred, average='micro'))\n",
    "print('Recall   :',recall_score(y_test, y_pred, average='micro'))\n",
    "print('f1_score   :',f1_score(y_test, y_pred, average='micro'))"
   ]
  },
  {
   "cell_type": "code",
   "execution_count": 71,
   "metadata": {
    "colab": {
     "base_uri": "https://localhost:8080/",
     "height": 484
    },
    "id": "sfiKLW7sUDLM",
    "outputId": "b19a8d2b-6d50-4c19-c493-9587adddbfdd"
   },
   "outputs": [
    {
     "data": {
      "image/png": "[encoded data removed]",
      "text/plain": [
       "<Figure size 640x480 with 2 Axes>"
      ]
     },
     "metadata": {},
     "output_type": "display_data"
    }
   ],
   "source": [
    "# create heatmap\n",
    "sns.heatmap(pd.DataFrame(cnf), annot=True, cmap='YlGnBu', fmt='g')\n",
    "ax.xaxis.set_label_position('top')\n",
    "plt.title('Confusion matrix(Ada Boost Classifier)', y=1.1)\n",
    "plt.ylabel('Actual')\n",
    "plt.xlabel('Predicted')\n",
    "plt.tight_layout()\n",
    "plt.show()"
   ]
  },
  {
   "cell_type": "markdown",
   "metadata": {
    "id": "pUjFTqaOUIaQ"
   },
   "source": [
    "# XGBoost Classifier:"
   ]
  },
  {
   "cell_type": "code",
   "execution_count": 72,
   "metadata": {
    "id": "0HOanX6_UKdG"
   },
   "outputs": [],
   "source": [
    "import xgboost\n",
    "classifier = xgboost.XGBClassifier().fit(X_train,y_train)\n",
    "y_pred = classifier.predict(X_test)"
   ]
  },
  {
   "cell_type": "code",
   "execution_count": 73,
   "metadata": {
    "colab": {
     "base_uri": "https://localhost:8080/"
    },
    "id": "pCvpHINEUacX",
    "outputId": "44443452-0efd-4fb3-8887-9a62869474d0"
   },
   "outputs": [
    {
     "name": "stdout",
     "output_type": "stream",
     "text": [
      "[[ 2995  3668]\n",
      " [  931 12406]]\n",
      "Accuracy : 0.77005\n",
      "Precision: 0.77005\n",
      "Recall   : 0.77005\n",
      "f1_score   : 0.7700500000000001\n"
     ]
    }
   ],
   "source": [
    "cnf = confusion_matrix(y_test,y_pred)\n",
    "print(cnf)\n",
    "print('Accuracy :', accuracy_score(y_test, y_pred))\n",
    "print('Precision:', precision_score(y_test, y_pred, average='micro'))\n",
    "print('Recall   :',recall_score(y_test, y_pred, average='micro'))\n",
    "print('f1_score   :',f1_score(y_test, y_pred, average='micro'))"
   ]
  },
  {
   "cell_type": "code",
   "execution_count": 74,
   "metadata": {
    "colab": {
     "base_uri": "https://localhost:8080/",
     "height": 484
    },
    "id": "_m2lMeMCUcQt",
    "outputId": "26988fd7-d9bd-40c8-9727-d1d1be960e91"
   },
   "outputs": [
    {
     "data": {
      "image/png": "[encoded data removed]",
      "text/plain": [
       "<Figure size 640x480 with 2 Axes>"
      ]
     },
     "metadata": {},
     "output_type": "display_data"
    }
   ],
   "source": [
    "# create heatmap\n",
    "sns.heatmap(pd.DataFrame(cnf), annot=True, cmap='YlGnBu', fmt='g')\n",
    "ax.xaxis.set_label_position('top')\n",
    "plt.title('Confusion matrix(XGBoost Classifier)', y=1.1)\n",
    "plt.ylabel('Actual')\n",
    "plt.xlabel('Predicted')\n",
    "plt.tight_layout()\n",
    "plt.show()"
   ]
  },
  {
   "cell_type": "code",
   "execution_count": null,
   "metadata": {
    "id": "Anv4aWl7UgsI"
   },
   "outputs": [],
   "source": []
  }
 ],
 "metadata": {
  "colab": {
   "provenance": []
  },
  "kernelspec": {
   "display_name": "Python 3 (ipykernel)",
   "language": "python",
   "name": "python3"
  },
  "language_info": {
   "codemirror_mode": {
    "name": "ipython",
    "version": 3
   },
   "file_extension": ".py",
   "mimetype": "text/x-python",
   "name": "python",
   "nbconvert_exporter": "python",
   "pygments_lexer": "ipython3",
   "version": "3.11.3"
  }
 },
 "nbformat": 4,
 "nbformat_minor": 1
}
